{
 "cells": [
  {
   "cell_type": "markdown",
   "id": "334a2598",
   "metadata": {},
   "source": [
    "# Criando a análise dos dados"
   ]
  },
  {
   "cell_type": "code",
   "execution_count": 1,
   "id": "f1da74cc",
   "metadata": {},
   "outputs": [
    {
     "data": {
      "text/html": [
       "<div>\n",
       "<style scoped>\n",
       "    .dataframe tbody tr th:only-of-type {\n",
       "        vertical-align: middle;\n",
       "    }\n",
       "\n",
       "    .dataframe tbody tr th {\n",
       "        vertical-align: top;\n",
       "    }\n",
       "\n",
       "    .dataframe thead th {\n",
       "        text-align: right;\n",
       "    }\n",
       "</style>\n",
       "<table border=\"1\" class=\"dataframe\">\n",
       "  <thead>\n",
       "    <tr style=\"text-align: right;\">\n",
       "      <th></th>\n",
       "      <th>Year</th>\n",
       "      <th>Month</th>\n",
       "      <th>DayofMonth</th>\n",
       "      <th>DayOfWeek</th>\n",
       "      <th>DepTime</th>\n",
       "      <th>CRSDepTime</th>\n",
       "      <th>ArrTime</th>\n",
       "      <th>CRSArrTime</th>\n",
       "      <th>UniqueCarrier</th>\n",
       "      <th>FlightNum</th>\n",
       "      <th>...</th>\n",
       "      <th>TaxiIn</th>\n",
       "      <th>TaxiOut</th>\n",
       "      <th>Cancelled</th>\n",
       "      <th>CancellationCode</th>\n",
       "      <th>Diverted</th>\n",
       "      <th>CarrierDelay</th>\n",
       "      <th>WeatherDelay</th>\n",
       "      <th>NASDelay</th>\n",
       "      <th>SecurityDelay</th>\n",
       "      <th>LateAircraftDelay</th>\n",
       "    </tr>\n",
       "  </thead>\n",
       "  <tbody>\n",
       "    <tr>\n",
       "      <th>0</th>\n",
       "      <td>2006</td>\n",
       "      <td>4</td>\n",
       "      <td>10</td>\n",
       "      <td>1</td>\n",
       "      <td>1405.0</td>\n",
       "      <td>1410</td>\n",
       "      <td>1456.0</td>\n",
       "      <td>1505</td>\n",
       "      <td>MQ</td>\n",
       "      <td>3503</td>\n",
       "      <td>...</td>\n",
       "      <td>2</td>\n",
       "      <td>8</td>\n",
       "      <td>0</td>\n",
       "      <td>NaN</td>\n",
       "      <td>0</td>\n",
       "      <td>0</td>\n",
       "      <td>0</td>\n",
       "      <td>0</td>\n",
       "      <td>0</td>\n",
       "      <td>0</td>\n",
       "    </tr>\n",
       "    <tr>\n",
       "      <th>1</th>\n",
       "      <td>2006</td>\n",
       "      <td>1</td>\n",
       "      <td>3</td>\n",
       "      <td>2</td>\n",
       "      <td>1344.0</td>\n",
       "      <td>1321</td>\n",
       "      <td>2116.0</td>\n",
       "      <td>2100</td>\n",
       "      <td>DL</td>\n",
       "      <td>461</td>\n",
       "      <td>...</td>\n",
       "      <td>4</td>\n",
       "      <td>14</td>\n",
       "      <td>0</td>\n",
       "      <td>NaN</td>\n",
       "      <td>0</td>\n",
       "      <td>5</td>\n",
       "      <td>0</td>\n",
       "      <td>0</td>\n",
       "      <td>0</td>\n",
       "      <td>11</td>\n",
       "    </tr>\n",
       "    <tr>\n",
       "      <th>2</th>\n",
       "      <td>2006</td>\n",
       "      <td>11</td>\n",
       "      <td>26</td>\n",
       "      <td>7</td>\n",
       "      <td>1810.0</td>\n",
       "      <td>1725</td>\n",
       "      <td>2107.0</td>\n",
       "      <td>2025</td>\n",
       "      <td>WN</td>\n",
       "      <td>2308</td>\n",
       "      <td>...</td>\n",
       "      <td>4</td>\n",
       "      <td>32</td>\n",
       "      <td>0</td>\n",
       "      <td>NaN</td>\n",
       "      <td>0</td>\n",
       "      <td>0</td>\n",
       "      <td>0</td>\n",
       "      <td>6</td>\n",
       "      <td>0</td>\n",
       "      <td>36</td>\n",
       "    </tr>\n",
       "    <tr>\n",
       "      <th>3</th>\n",
       "      <td>2006</td>\n",
       "      <td>1</td>\n",
       "      <td>25</td>\n",
       "      <td>3</td>\n",
       "      <td>2326.0</td>\n",
       "      <td>2323</td>\n",
       "      <td>737.0</td>\n",
       "      <td>731</td>\n",
       "      <td>AS</td>\n",
       "      <td>10</td>\n",
       "      <td>...</td>\n",
       "      <td>6</td>\n",
       "      <td>9</td>\n",
       "      <td>0</td>\n",
       "      <td>NaN</td>\n",
       "      <td>0</td>\n",
       "      <td>0</td>\n",
       "      <td>0</td>\n",
       "      <td>0</td>\n",
       "      <td>0</td>\n",
       "      <td>0</td>\n",
       "    </tr>\n",
       "    <tr>\n",
       "      <th>4</th>\n",
       "      <td>2006</td>\n",
       "      <td>8</td>\n",
       "      <td>11</td>\n",
       "      <td>5</td>\n",
       "      <td>1409.0</td>\n",
       "      <td>1410</td>\n",
       "      <td>1628.0</td>\n",
       "      <td>1632</td>\n",
       "      <td>US</td>\n",
       "      <td>1038</td>\n",
       "      <td>...</td>\n",
       "      <td>3</td>\n",
       "      <td>10</td>\n",
       "      <td>0</td>\n",
       "      <td>NaN</td>\n",
       "      <td>0</td>\n",
       "      <td>0</td>\n",
       "      <td>0</td>\n",
       "      <td>0</td>\n",
       "      <td>0</td>\n",
       "      <td>0</td>\n",
       "    </tr>\n",
       "  </tbody>\n",
       "</table>\n",
       "<p>5 rows × 29 columns</p>\n",
       "</div>"
      ],
      "text/plain": [
       "   Year  Month  DayofMonth  DayOfWeek  DepTime  CRSDepTime  ArrTime  \\\n",
       "0  2006      4          10          1   1405.0        1410   1456.0   \n",
       "1  2006      1           3          2   1344.0        1321   2116.0   \n",
       "2  2006     11          26          7   1810.0        1725   2107.0   \n",
       "3  2006      1          25          3   2326.0        2323    737.0   \n",
       "4  2006      8          11          5   1409.0        1410   1628.0   \n",
       "\n",
       "   CRSArrTime UniqueCarrier  FlightNum  ... TaxiIn  TaxiOut  Cancelled  \\\n",
       "0        1505            MQ       3503  ...      2        8          0   \n",
       "1        2100            DL        461  ...      4       14          0   \n",
       "2        2025            WN       2308  ...      4       32          0   \n",
       "3         731            AS         10  ...      6        9          0   \n",
       "4        1632            US       1038  ...      3       10          0   \n",
       "\n",
       "   CancellationCode  Diverted  CarrierDelay WeatherDelay NASDelay  \\\n",
       "0               NaN         0             0            0        0   \n",
       "1               NaN         0             5            0        0   \n",
       "2               NaN         0             0            0        6   \n",
       "3               NaN         0             0            0        0   \n",
       "4               NaN         0             0            0        0   \n",
       "\n",
       "   SecurityDelay  LateAircraftDelay  \n",
       "0              0                  0  \n",
       "1              0                 11  \n",
       "2              0                 36  \n",
       "3              0                  0  \n",
       "4              0                  0  \n",
       "\n",
       "[5 rows x 29 columns]"
      ]
     },
     "execution_count": 1,
     "metadata": {},
     "output_type": "execute_result"
    }
   ],
   "source": [
    "import pandas as pd\n",
    "import matplotlib.pyplot as plt\n",
    "import seaborn as sns\n",
    "\n",
    "# Carregar o dataset\n",
    "df = pd.read_csv('2006.csv')\n",
    "\n",
    "# Mostrar as primeiras linhas para confirmar o carregamento dos dados\n",
    "df.head()"
   ]
  },
  {
   "cell_type": "markdown",
   "id": "2eb2facf",
   "metadata": {},
   "source": [
    "## 01: Quantidade de atrasos de uma companhia específica\n",
    "\n",
    "- A análise da quantidade de atrasos por companhia pode revelar quais companhias têm maior dificuldade em manter seus horários. Por exemplo, se a Delta Air Lines (DL) tiver um número significativamente maior de atrasos em comparação com outras companhias, isso pode indicar problemas operacionais específicos dessa companhia.\n",
    "\n",
    "Isso é verdade?"
   ]
  },
  {
   "cell_type": "code",
   "execution_count": 2,
   "id": "be6aac9e",
   "metadata": {},
   "outputs": [
    {
     "data": {
      "text/plain": [
       "2266"
      ]
     },
     "execution_count": 2,
     "metadata": {},
     "output_type": "execute_result"
    }
   ],
   "source": [
    "def contar_atrasos_por_companhia(companhia):\n",
    "    atrasos = df[(df['UniqueCarrier'] == companhia) & (df['ArrDelay'] > 0)]\n",
    "    return len(atrasos)\n",
    "\n",
    "# Chamando a função\n",
    "companhia = 'DL'  # Delta Air Lines\n",
    "contar_atrasos_por_companhia(companhia)"
   ]
  },
  {
   "cell_type": "code",
   "execution_count": 3,
   "id": "eb2bb452",
   "metadata": {},
   "outputs": [
    {
     "data": {
      "text/plain": [
       "UniqueCarrier\n",
       "WN    4213\n",
       "AA    2765\n",
       "MQ    2475\n",
       "OO    2399\n",
       "US    2381\n",
       "Name: ArrDelay, dtype: int64"
      ]
     },
     "execution_count": 3,
     "metadata": {},
     "output_type": "execute_result"
    }
   ],
   "source": [
    "def top_5_companhias_maior_quantidade_atrasos(df):\n",
    "    # Filtrar os voos com atraso na chegada\n",
    "    voos_com_atraso = df[df['ArrDelay'] > 0]\n",
    "    \n",
    "    # Agrupar por companhia aérea e contar o número de voos com atraso\n",
    "    quantidade_atrasos_por_companhia = voos_com_atraso.groupby('UniqueCarrier')['ArrDelay'].count()\n",
    "    \n",
    "    # Se quiser em minutos\n",
    "    #atrasos_por_companhia = voos_com_atraso.groupby('UniqueCarrier')['ArrDelay'].sum()\n",
    "\n",
    "    \n",
    "    # Ordenar em ordem decrescente e selecionar as 5 companhias com mais atrasos\n",
    "    top_5 = quantidade_atrasos_por_companhia.sort_values(ascending=False).head(5)\n",
    "    \n",
    "    return top_5\n",
    "\n",
    "# Chamando a função\n",
    "top_5_companhias_maior_quantidade_atrasos(df)"
   ]
  },
  {
   "cell_type": "markdown",
   "id": "36c5906a",
   "metadata": {},
   "source": [
    "## 02: Maior Atraso na Chegada (Q-02) e Saída (Q-03):\n",
    "\n",
    "- Identificar os voos com os maiores atrasos na chegada e na saída ajuda a destacar possíveis gargalos ou problemas específicos de rotas ou aeroportos. Esses voos extremos podem ser investigados para entender o que causou tais atrasos (por exemplo, condições meteorológicas, problemas técnicos, congestionamento aeroportuário)."
   ]
  },
  {
   "cell_type": "code",
   "execution_count": 4,
   "id": "c2fe052c",
   "metadata": {},
   "outputs": [
    {
     "data": {
      "text/html": [
       "<div>\n",
       "<style scoped>\n",
       "    .dataframe tbody tr th:only-of-type {\n",
       "        vertical-align: middle;\n",
       "    }\n",
       "\n",
       "    .dataframe tbody tr th {\n",
       "        vertical-align: top;\n",
       "    }\n",
       "\n",
       "    .dataframe thead th {\n",
       "        text-align: right;\n",
       "    }\n",
       "</style>\n",
       "<table border=\"1\" class=\"dataframe\">\n",
       "  <thead>\n",
       "    <tr style=\"text-align: right;\">\n",
       "      <th></th>\n",
       "      <th>UniqueCarrier</th>\n",
       "      <th>FlightNum</th>\n",
       "      <th>Origin</th>\n",
       "      <th>Dest</th>\n",
       "      <th>DepDelay</th>\n",
       "    </tr>\n",
       "  </thead>\n",
       "  <tbody>\n",
       "    <tr>\n",
       "      <th>433</th>\n",
       "      <td>B6</td>\n",
       "      <td>740</td>\n",
       "      <td>PSE</td>\n",
       "      <td>JFK</td>\n",
       "      <td>792.0</td>\n",
       "    </tr>\n",
       "  </tbody>\n",
       "</table>\n",
       "</div>"
      ],
      "text/plain": [
       "    UniqueCarrier  FlightNum Origin Dest  DepDelay\n",
       "433            B6        740    PSE  JFK     792.0"
      ]
     },
     "execution_count": 4,
     "metadata": {},
     "output_type": "execute_result"
    }
   ],
   "source": [
    "# Maior atraso na chegada\n",
    "#voo_maior_atraso_chegada = df[df['ArrDelay'] == df['ArrDelay'].max()]\n",
    "#voo_maior_atraso_chegada[['UniqueCarrier', 'FlightNum', 'Origin', 'Dest', 'ArrDelay']]\n",
    "\n",
    "# Maior atraso na saída\n",
    "voo_maior_atraso_saida = df[df['DepDelay'] == df['DepDelay'].max()]\n",
    "voo_maior_atraso_saida[['UniqueCarrier', 'FlightNum', 'Origin', 'Dest', 'DepDelay']]\n"
   ]
  },
  {
   "cell_type": "markdown",
   "id": "855649b7",
   "metadata": {},
   "source": [
    "## 04: Voo mais longo\n",
    "\n",
    "- O voo mais longo em termos de distância pode ajudar a entender as rotas mais extenuantes operadas pelas companhias aéreas. A análise desses voos pode levar à otimização das operações e do planejamento de voos longos."
   ]
  },
  {
   "cell_type": "code",
   "execution_count": 5,
   "id": "f53f771d",
   "metadata": {},
   "outputs": [
    {
     "data": {
      "text/html": [
       "<div>\n",
       "<style scoped>\n",
       "    .dataframe tbody tr th:only-of-type {\n",
       "        vertical-align: middle;\n",
       "    }\n",
       "\n",
       "    .dataframe tbody tr th {\n",
       "        vertical-align: top;\n",
       "    }\n",
       "\n",
       "    .dataframe thead th {\n",
       "        text-align: right;\n",
       "    }\n",
       "</style>\n",
       "<table border=\"1\" class=\"dataframe\">\n",
       "  <thead>\n",
       "    <tr style=\"text-align: right;\">\n",
       "      <th></th>\n",
       "      <th>UniqueCarrier</th>\n",
       "      <th>FlightNum</th>\n",
       "      <th>Origin</th>\n",
       "      <th>Dest</th>\n",
       "      <th>Distance</th>\n",
       "    </tr>\n",
       "  </thead>\n",
       "  <tbody>\n",
       "    <tr>\n",
       "      <th>7129</th>\n",
       "      <td>DL</td>\n",
       "      <td>317</td>\n",
       "      <td>ATL</td>\n",
       "      <td>HNL</td>\n",
       "      <td>4502</td>\n",
       "    </tr>\n",
       "    <tr>\n",
       "      <th>8717</th>\n",
       "      <td>DL</td>\n",
       "      <td>1282</td>\n",
       "      <td>HNL</td>\n",
       "      <td>ATL</td>\n",
       "      <td>4502</td>\n",
       "    </tr>\n",
       "    <tr>\n",
       "      <th>17235</th>\n",
       "      <td>DL</td>\n",
       "      <td>1282</td>\n",
       "      <td>HNL</td>\n",
       "      <td>ATL</td>\n",
       "      <td>4502</td>\n",
       "    </tr>\n",
       "    <tr>\n",
       "      <th>51741</th>\n",
       "      <td>DL</td>\n",
       "      <td>855</td>\n",
       "      <td>ATL</td>\n",
       "      <td>HNL</td>\n",
       "      <td>4502</td>\n",
       "    </tr>\n",
       "  </tbody>\n",
       "</table>\n",
       "</div>"
      ],
      "text/plain": [
       "      UniqueCarrier  FlightNum Origin Dest  Distance\n",
       "7129             DL        317    ATL  HNL      4502\n",
       "8717             DL       1282    HNL  ATL      4502\n",
       "17235            DL       1282    HNL  ATL      4502\n",
       "51741            DL        855    ATL  HNL      4502"
      ]
     },
     "execution_count": 5,
     "metadata": {},
     "output_type": "execute_result"
    }
   ],
   "source": [
    "voo_mais_longo = df[df['Distance'] == df['Distance'].max()]\n",
    "voo_mais_longo[['UniqueCarrier', 'FlightNum', 'Origin', 'Dest', 'Distance']]"
   ]
  },
  {
   "cell_type": "markdown",
   "id": "c608bc61",
   "metadata": {},
   "source": [
    "## 05: Quantidade de voos redirecionados (Diverted)\n",
    "\n",
    "- O número de voos redirecionados (Diverted) pode indicar a frequência de problemas que forçam mudanças de rota, o que pode estar relacionado a problemas meteorológicos, congestionamentos ou até mesmo emergências. Reduzir a necessidade de redirecionamento pode ser um objetivo de melhoria operacional.\n",
    "\n",
    "Qual a quantidade total de voos redirecionados por companhia aérea?\n",
    "\n",
    "Qual a porcentagem total?\n",
    "\n",
    "Qual o aeroporto que mais redireciona?"
   ]
  },
  {
   "cell_type": "code",
   "execution_count": 6,
   "id": "0f2c908e",
   "metadata": {},
   "outputs": [
    {
     "data": {
      "text/plain": [
       "133"
      ]
     },
     "execution_count": 6,
     "metadata": {},
     "output_type": "execute_result"
    }
   ],
   "source": [
    "voos_redirecionados = len(df[df['Diverted'] == 1])\n",
    "voos_redirecionados"
   ]
  },
  {
   "cell_type": "code",
   "execution_count": 7,
   "id": "f4849c49",
   "metadata": {},
   "outputs": [
    {
     "data": {
      "text/plain": [
       "71419"
      ]
     },
     "execution_count": 7,
     "metadata": {},
     "output_type": "execute_result"
    }
   ],
   "source": [
    "# Quantidade total de voos por companhia aérea\n",
    "\n",
    "def quantidade_total_voos_por_companhia(df):\n",
    "    # Agrupar por companhia aérea e contar o número de voos\n",
    "    total_voos_por_companhia = df.groupby('UniqueCarrier')['FlightNum'].count()\n",
    "    \n",
    "    return total_voos_por_companhia\n",
    "\n",
    "# Chamando a função\n",
    "quantidade_total_voos_por_companhia(df).sum()"
   ]
  },
  {
   "cell_type": "code",
   "execution_count": 10,
   "id": "de2619bb",
   "metadata": {},
   "outputs": [
    {
     "name": "stdout",
     "output_type": "stream",
     "text": [
      "Aeroporto que mais redireciona: ATL com 11 redirecionamentos\n"
     ]
    }
   ],
   "source": [
    "# Porcentagem de voos redirecionados\n",
    "def porcentagem_voos_redirecionados(df):\n",
    "    # Calcular a porcentagem de voos redirecionados\n",
    "    total_voos = len(df)\n",
    "    total_redirecionados = len(df[df['Diverted'] == 1])\n",
    "    porcentagem = (total_redirecionados / total_voos) * 100\n",
    "    return porcentagem\n",
    "\n",
    "# Chamando a função\n",
    "aeroporto_mais_redireciona, quantidade_redirecionamentos = aeroporto_mais_redireciona(df)\n",
    "print(f\"Aeroporto que mais redireciona: {aeroporto_mais_redireciona} com {quantidade_redirecionamentos} redirecionamentos\")"
   ]
  },
  {
   "cell_type": "code",
   "execution_count": 9,
   "id": "657fc9ac",
   "metadata": {},
   "outputs": [
    {
     "name": "stdout",
     "output_type": "stream",
     "text": [
      "Porcentagem de voos redirecionados: 0.19%\n"
     ]
    }
   ],
   "source": [
    "# Aeroporto que mais redireciona\n",
    "def aeroporto_mais_redireciona(df):\n",
    "    # Filtrar apenas os voos redirecionados\n",
    "    voos_redirecionados = df[df['Diverted'] == 1]\n",
    "    \n",
    "    # Agrupar por aeroporto de origem e contar o número de voos redirecionados\n",
    "    redirecionamentos_por_aeroporto = voos_redirecionados.groupby('Origin')['Diverted'].count()\n",
    "    \n",
    "    # Identificar o aeroporto com o maior número de redirecionamentos\n",
    "    aeroporto_com_mais_redirecionamentos = redirecionamentos_por_aeroporto.idxmax()\n",
    "    \n",
    "    return aeroporto_com_mais_redirecionamentos, redirecionamentos_por_aeroporto.loc[aeroporto_com_mais_redirecionamentos]\n",
    "\n",
    "# # Chamando a função\n",
    "porcentagem = porcentagem_voos_redirecionados(df)\n",
    "print(f\"Porcentagem de voos redirecionados: {porcentagem:.2f}%\")"
   ]
  },
  {
   "cell_type": "markdown",
   "id": "c2a57545",
   "metadata": {},
   "source": [
    "## 06: Tempo total de atraso para a Delta Air Lines\n",
    "\n",
    "- Analisar o tempo total de atraso para uma companhia específica, como a Delta Air Lines, fornece uma visão clara do impacto dos atrasos sobre a companhia. Se os atrasos somarem milhares de minutos, isso representa uma perda significativa tanto em termos de custo operacional quanto de satisfação do cliente."
   ]
  },
  {
   "cell_type": "code",
   "execution_count": 12,
   "id": "fb37d2c9",
   "metadata": {},
   "outputs": [
    {
     "data": {
      "text/plain": [
       "107653.0"
      ]
     },
     "execution_count": 12,
     "metadata": {},
     "output_type": "execute_result"
    }
   ],
   "source": [
    "delta_airlines_atrasos = df[(df['UniqueCarrier'] == 'WN') & (df['ArrDelay'] > 0) & df['ArrDelay'].notna()]\n",
    "tempo_total_atraso_delta = delta_airlines_atrasos['ArrDelay'].sum()\n",
    "tempo_total_atraso_delta"
   ]
  },
  {
   "cell_type": "markdown",
   "id": "31829768",
   "metadata": {},
   "source": [
    "## 07: Tempo total de atrasos na decolagem no aeroporto JFK\n",
    "\n",
    "- O tempo total de atraso na decolagem do aeroporto JFK pode indicar problemas específicos nesse aeroporto, como congestionamento, problemas de coordenação ou condições meteorológicas adversas frequentes. Medidas podem ser tomadas para mitigar esses atrasos, como otimização do agendamento de voos ou melhorias na infraestrutura.\n",
    "\n",
    "As condições meteorológicas já foram apontadas algumas vezes durante a análise, vamos verificar então, quais são os meses do ano com maior quantidade de atraso.\n",
    "\n"
   ]
  },
  {
   "cell_type": "code",
   "execution_count": 16,
   "id": "e9cf3f4b",
   "metadata": {},
   "outputs": [
    {
     "data": {
      "text/plain": [
       "16065.0"
      ]
     },
     "execution_count": 16,
     "metadata": {},
     "output_type": "execute_result"
    }
   ],
   "source": [
    "atrasos_jfk = df[(df['Origin'] == 'JFK') & (df['DepDelay'] > 0) & df['DepDelay'].notna()]\n",
    "tempo_total_atraso_jfk = atrasos_jfk['DepDelay'].sum()\n",
    "tempo_total_atraso_jfk"
   ]
  },
  {
   "cell_type": "code",
   "execution_count": 17,
   "id": "4e715a1a",
   "metadata": {},
   "outputs": [
    {
     "data": {
      "image/png": "[encoded data removed]",
      "text/plain": [
       "<Figure size 1000x600 with 1 Axes>"
      ]
     },
     "metadata": {},
     "output_type": "display_data"
    }
   ],
   "source": [
    "# Adicionar uma coluna para o mês\n",
    "df['Month'] = df['Month']\n",
    "\n",
    "# Filtrar voos com atraso na chegada\n",
    "df_atrasos = df[df['ArrDelay'] > 0]\n",
    "\n",
    "# Agrupar por mês e calcular a soma dos atrasos\n",
    "atrasos_por_mes = df_atrasos.groupby('Month')['ArrDelay'].sum()\n",
    "\n",
    "# Alternativamente, calcular a média dos atrasos por mês\n",
    "# atrasos_por_mes = df_atrasos.groupby('Month')['ArrDelay'].mean()\n",
    "\n",
    "# Visualizar os resultados\n",
    "plt.figure(figsize=(10, 6))\n",
    "atrasos_por_mes.plot(kind='bar', color='skyblue')\n",
    "plt.title('Total de Atrasos por Mês')\n",
    "plt.xlabel('Mês')\n",
    "plt.ylabel('Total de Atrasos (minutos)')\n",
    "plt.xticks(ticks=range(1, 13), labels=['Jan', 'Feb', 'Mar', 'Apr', 'May', 'Jun', 'Jul', 'Aug', 'Sep', 'Oct', 'Nov', 'Dec'], rotation=45)\n",
    "plt.grid(axis='y', linestyle='--', alpha=0.7)\n",
    "plt.show()"
   ]
  },
  {
   "cell_type": "code",
   "execution_count": 18,
   "id": "d4765adc",
   "metadata": {},
   "outputs": [
    {
     "data": {
      "image/png": "[encoded data removed]",
      "text/plain": [
       "<Figure size 1200x800 with 1 Axes>"
      ]
     },
     "metadata": {},
     "output_type": "display_data"
    }
   ],
   "source": [
    "# Contar a quantidade de voos por origem\n",
    "voos_por_origem = df['Origin'].value_counts()\n",
    "\n",
    "# Mostrar as 10 origens mais frequentes\n",
    "top_10_origens = voos_por_origem.head(10)\n",
    "\n",
    "# Plotar os dados\n",
    "plt.figure(figsize=(12, 8))\n",
    "top_10_origens.plot(kind='bar', color='skyblue')\n",
    "plt.xlabel('Código do Aeroporto de Origem')\n",
    "plt.ylabel('Número de Voos')\n",
    "plt.title('Top 10 Aeroportos de Origem com Mais Voos')\n",
    "plt.xticks(rotation=45)\n",
    "plt.grid(axis='y', linestyle='--', alpha=0.7)\n",
    "plt.show()"
   ]
  },
  {
   "cell_type": "markdown",
   "id": "bb2054df",
   "metadata": {},
   "source": [
    "## Análise das condições climáticas e seu impacto sobre os atrasos dos voos\n",
    "\n",
    "### Simulação de Dados Meteorológicos\n",
    "\n",
    "Vou simular um DataFrame weather_df com informações básicas sobre as condições meteorológicas para diferentes dias. Esse DataFrame incluirá colunas como:\n",
    "\n",
    "- Date: A data para associar com os dados de voos.\n",
    "- Tempestade: Um indicador binário (0 ou 1) que indica se houve tempestade no dia.\n",
    "- Visibilidade: Visibilidade em milhas.\n",
    "- Vento: Velocidade do vento em mph."
   ]
  },
  {
   "cell_type": "code",
   "execution_count": 20,
   "id": "eb6b1dce",
   "metadata": {},
   "outputs": [
    {
     "data": {
      "text/html": [
       "<div>\n",
       "<style scoped>\n",
       "    .dataframe tbody tr th:only-of-type {\n",
       "        vertical-align: middle;\n",
       "    }\n",
       "\n",
       "    .dataframe tbody tr th {\n",
       "        vertical-align: top;\n",
       "    }\n",
       "\n",
       "    .dataframe thead th {\n",
       "        text-align: right;\n",
       "    }\n",
       "</style>\n",
       "<table border=\"1\" class=\"dataframe\">\n",
       "  <thead>\n",
       "    <tr style=\"text-align: right;\">\n",
       "      <th></th>\n",
       "      <th>Date</th>\n",
       "      <th>Tempestade</th>\n",
       "      <th>Visibilidade</th>\n",
       "      <th>Vento</th>\n",
       "    </tr>\n",
       "  </thead>\n",
       "  <tbody>\n",
       "    <tr>\n",
       "      <th>0</th>\n",
       "      <td>2006-01-01</td>\n",
       "      <td>0</td>\n",
       "      <td>3.504661</td>\n",
       "      <td>109.443167</td>\n",
       "    </tr>\n",
       "    <tr>\n",
       "      <th>1</th>\n",
       "      <td>2006-01-02</td>\n",
       "      <td>1</td>\n",
       "      <td>1.421787</td>\n",
       "      <td>113.345856</td>\n",
       "    </tr>\n",
       "    <tr>\n",
       "      <th>2</th>\n",
       "      <td>2006-01-03</td>\n",
       "      <td>1</td>\n",
       "      <td>0.583143</td>\n",
       "      <td>106.217124</td>\n",
       "    </tr>\n",
       "    <tr>\n",
       "      <th>3</th>\n",
       "      <td>2006-01-04</td>\n",
       "      <td>1</td>\n",
       "      <td>7.318289</td>\n",
       "      <td>99.561340</td>\n",
       "    </tr>\n",
       "    <tr>\n",
       "      <th>4</th>\n",
       "      <td>2006-01-05</td>\n",
       "      <td>1</td>\n",
       "      <td>1.210183</td>\n",
       "      <td>32.026897</td>\n",
       "    </tr>\n",
       "  </tbody>\n",
       "</table>\n",
       "</div>"
      ],
      "text/plain": [
       "        Date  Tempestade  Visibilidade       Vento\n",
       "0 2006-01-01           0      3.504661  109.443167\n",
       "1 2006-01-02           1      1.421787  113.345856\n",
       "2 2006-01-03           1      0.583143  106.217124\n",
       "3 2006-01-04           1      7.318289   99.561340\n",
       "4 2006-01-05           1      1.210183   32.026897"
      ]
     },
     "execution_count": 20,
     "metadata": {},
     "output_type": "execute_result"
    }
   ],
   "source": [
    "import pandas as pd\n",
    "import numpy as np\n",
    "from datetime import datetime, timedelta\n",
    "import random\n",
    "\n",
    "# Configurações para a simulação de dados meteorológicos\n",
    "date_range = pd.date_range(start=datetime(2006, 1, 1), end=datetime(2006, 12, 31), freq='D')\n",
    "\n",
    "# Simulando dados meteorológicos\n",
    "weather_data = {\n",
    "    \"Date\": date_range,\n",
    "    \"Tempestade\": [random.choice([0, 1]) for _ in range(len(date_range))],\n",
    "    \"Visibilidade\": [random.uniform(0.5, 10.0) for _ in range(len(date_range))],\n",
    "    \"Vento\": [random.uniform(20, 120) for _ in range(len(date_range))]\n",
    "}\n",
    "\n",
    "# Criando o DataFrame\n",
    "weather_df = pd.DataFrame(weather_data)\n",
    "\n",
    "# Salvando o DataFrame simulado para uso posterior\n",
    "weather_df.to_csv('dados_meteorologicos_2006.csv', index=False)\n",
    "\n",
    "# Visualizar as primeiras linhas do DataFrame meteorológico\n",
    "weather_df.head()\n",
    "#weather_df.info()"
   ]
  },
  {
   "cell_type": "markdown",
   "id": "b771702d",
   "metadata": {},
   "source": [
    "## Agora, realize os seguintes apontamentos:\n",
    "\n",
    " - Análise de Tendências Temporais (Sazonalidade)\n",
    " - Impacto das Condições Meteorológicas\n",
    " - Análise de Eficiência Operacional\n",
    " "
   ]
  },
  {
   "cell_type": "code",
   "execution_count": null,
   "id": "cd7da5ff",
   "metadata": {},
   "outputs": [],
   "source": []
  }
 ],
 "metadata": {
  "kernelspec": {
   "display_name": "Python 3 (ipykernel)",
   "language": "python",
   "name": "python3"
  },
  "language_info": {
   "codemirror_mode": {
    "name": "ipython",
    "version": 3
   },
   "file_extension": ".py",
   "mimetype": "text/x-python",
   "name": "python",
   "nbconvert_exporter": "python",
   "pygments_lexer": "ipython3",
   "version": "3.11.4"
  }
 },
 "nbformat": 4,
 "nbformat_minor": 5
}
