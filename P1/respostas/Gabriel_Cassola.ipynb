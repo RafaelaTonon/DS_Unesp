{
 "cells": [
  {
   "cell_type": "markdown",
   "id": "7d2ae0e7-5518-4af8-8ae4-8ebe26d4fe7e",
   "metadata": {},
   "source": [
    "# Bem vindo a nossa primeira avaliação!!\n",
    "\n",
    "## Informações sobre o Dataset\n",
    "\n",
    "   Input variables (based on physicochemical tests):\\\n",
    "   1 - fixed acidity\\\n",
    "   2 - volatile acidity\\\n",
    "   3 - citric acid\\\n",
    "   4 - residual sugar\\\n",
    "   5 - chlorides\\\n",
    "   6 - free sulfur dioxide\\\n",
    "   7 - total sulfur dioxide\\\n",
    "   8 - density\\\n",
    "   9 - pH\\\n",
    "   10 - sulphates\\\n",
    "   11 - alcohol\n",
    "   \n",
    "   Output variable (based on sensory data): \n",
    "   12 - quality (score between 0 and 10)"
   ]
  },
  {
   "cell_type": "markdown",
   "id": "f9f0099c",
   "metadata": {},
   "source": [
    "# Importando bibliotecas e lendo os datasets"
   ]
  },
  {
   "cell_type": "code",
   "execution_count": 60,
   "id": "f795883a-3c4e-4789-8b04-aca63a5db52a",
   "metadata": {},
   "outputs": [],
   "source": [
    "import pandas as pd\n",
    "import matplotlib.pyplot as plt\n",
    "import seaborn as sns\n",
    "df_white = pd.read_csv('../../P1/dataset/winequality-white.csv', sep=';')\n",
    "df_red = pd.read_csv('../../P1/dataset/winequality-red.csv', sep=';')"
   ]
  },
  {
   "cell_type": "markdown",
   "id": "01c54f14",
   "metadata": {},
   "source": [
    "#\n",
    "---"
   ]
  },
  {
   "cell_type": "markdown",
   "id": "f9abe7ea",
   "metadata": {},
   "source": [
    "# Vinhos brancos"
   ]
  },
  {
   "cell_type": "markdown",
   "id": "13c745cb",
   "metadata": {},
   "source": [
    "## Verificando se há dados nulos"
   ]
  },
  {
   "cell_type": "code",
   "execution_count": 61,
   "id": "bcfcbcc0",
   "metadata": {},
   "outputs": [
    {
     "data": {
      "text/plain": [
       "fixed acidity           0\n",
       "volatile acidity        0\n",
       "citric acid             0\n",
       "residual sugar          0\n",
       "chlorides               0\n",
       "free sulfur dioxide     0\n",
       "total sulfur dioxide    0\n",
       "density                 0\n",
       "pH                      0\n",
       "sulphates               0\n",
       "alcohol                 0\n",
       "quality                 0\n",
       "dtype: int64"
      ]
     },
     "execution_count": 61,
     "metadata": {},
     "output_type": "execute_result"
    }
   ],
   "source": [
    "df_white.isna().sum().sort_values(ascending=False)\n"
   ]
  },
  {
   "cell_type": "markdown",
   "id": "2f645523",
   "metadata": {},
   "source": [
    "## Removendo dados duplicados"
   ]
  },
  {
   "cell_type": "code",
   "execution_count": 62,
   "id": "b5349811",
   "metadata": {},
   "outputs": [],
   "source": [
    "df_white.drop_duplicates(inplace=True)"
   ]
  },
  {
   "cell_type": "markdown",
   "id": "a5e5facc",
   "metadata": {},
   "source": [
    "## Exploração dos dados"
   ]
  },
  {
   "cell_type": "code",
   "execution_count": 63,
   "id": "01479b68",
   "metadata": {},
   "outputs": [
    {
     "name": "stdout",
     "output_type": "stream",
     "text": [
      "<class 'pandas.core.frame.DataFrame'>\n",
      "Index: 3961 entries, 0 to 4897\n",
      "Data columns (total 12 columns):\n",
      " #   Column                Non-Null Count  Dtype  \n",
      "---  ------                --------------  -----  \n",
      " 0   fixed acidity         3961 non-null   float64\n",
      " 1   volatile acidity      3961 non-null   float64\n",
      " 2   citric acid           3961 non-null   float64\n",
      " 3   residual sugar        3961 non-null   float64\n",
      " 4   chlorides             3961 non-null   float64\n",
      " 5   free sulfur dioxide   3961 non-null   float64\n",
      " 6   total sulfur dioxide  3961 non-null   float64\n",
      " 7   density               3961 non-null   float64\n",
      " 8   pH                    3961 non-null   float64\n",
      " 9   sulphates             3961 non-null   float64\n",
      " 10  alcohol               3961 non-null   float64\n",
      " 11  quality               3961 non-null   int64  \n",
      "dtypes: float64(11), int64(1)\n",
      "memory usage: 402.3 KB\n"
     ]
    },
    {
     "data": {
      "text/html": [
       "<div>\n",
       "<style scoped>\n",
       "    .dataframe tbody tr th:only-of-type {\n",
       "        vertical-align: middle;\n",
       "    }\n",
       "\n",
       "    .dataframe tbody tr th {\n",
       "        vertical-align: top;\n",
       "    }\n",
       "\n",
       "    .dataframe thead th {\n",
       "        text-align: right;\n",
       "    }\n",
       "</style>\n",
       "<table border=\"1\" class=\"dataframe\">\n",
       "  <thead>\n",
       "    <tr style=\"text-align: right;\">\n",
       "      <th></th>\n",
       "      <th>fixed acidity</th>\n",
       "      <th>volatile acidity</th>\n",
       "      <th>citric acid</th>\n",
       "      <th>residual sugar</th>\n",
       "      <th>chlorides</th>\n",
       "      <th>free sulfur dioxide</th>\n",
       "      <th>total sulfur dioxide</th>\n",
       "      <th>density</th>\n",
       "      <th>pH</th>\n",
       "      <th>sulphates</th>\n",
       "      <th>alcohol</th>\n",
       "      <th>quality</th>\n",
       "    </tr>\n",
       "  </thead>\n",
       "  <tbody>\n",
       "    <tr>\n",
       "      <th>count</th>\n",
       "      <td>3961.000000</td>\n",
       "      <td>3961.000000</td>\n",
       "      <td>3961.000000</td>\n",
       "      <td>3961.000000</td>\n",
       "      <td>3961.000000</td>\n",
       "      <td>3961.000000</td>\n",
       "      <td>3961.000000</td>\n",
       "      <td>3961.000000</td>\n",
       "      <td>3961.000000</td>\n",
       "      <td>3961.000000</td>\n",
       "      <td>3961.000000</td>\n",
       "      <td>3961.000000</td>\n",
       "    </tr>\n",
       "    <tr>\n",
       "      <th>mean</th>\n",
       "      <td>6.839346</td>\n",
       "      <td>0.280538</td>\n",
       "      <td>0.334332</td>\n",
       "      <td>5.914819</td>\n",
       "      <td>0.045905</td>\n",
       "      <td>34.889169</td>\n",
       "      <td>137.193512</td>\n",
       "      <td>0.993790</td>\n",
       "      <td>3.195458</td>\n",
       "      <td>0.490351</td>\n",
       "      <td>10.589358</td>\n",
       "      <td>5.854835</td>\n",
       "    </tr>\n",
       "    <tr>\n",
       "      <th>std</th>\n",
       "      <td>0.866860</td>\n",
       "      <td>0.103437</td>\n",
       "      <td>0.122446</td>\n",
       "      <td>4.861646</td>\n",
       "      <td>0.023103</td>\n",
       "      <td>17.210021</td>\n",
       "      <td>43.129065</td>\n",
       "      <td>0.002905</td>\n",
       "      <td>0.151546</td>\n",
       "      <td>0.113523</td>\n",
       "      <td>1.217076</td>\n",
       "      <td>0.890683</td>\n",
       "    </tr>\n",
       "    <tr>\n",
       "      <th>min</th>\n",
       "      <td>3.800000</td>\n",
       "      <td>0.080000</td>\n",
       "      <td>0.000000</td>\n",
       "      <td>0.600000</td>\n",
       "      <td>0.009000</td>\n",
       "      <td>2.000000</td>\n",
       "      <td>9.000000</td>\n",
       "      <td>0.987110</td>\n",
       "      <td>2.720000</td>\n",
       "      <td>0.220000</td>\n",
       "      <td>8.000000</td>\n",
       "      <td>3.000000</td>\n",
       "    </tr>\n",
       "    <tr>\n",
       "      <th>25%</th>\n",
       "      <td>6.300000</td>\n",
       "      <td>0.210000</td>\n",
       "      <td>0.270000</td>\n",
       "      <td>1.600000</td>\n",
       "      <td>0.035000</td>\n",
       "      <td>23.000000</td>\n",
       "      <td>106.000000</td>\n",
       "      <td>0.991620</td>\n",
       "      <td>3.090000</td>\n",
       "      <td>0.410000</td>\n",
       "      <td>9.500000</td>\n",
       "      <td>5.000000</td>\n",
       "    </tr>\n",
       "    <tr>\n",
       "      <th>50%</th>\n",
       "      <td>6.800000</td>\n",
       "      <td>0.260000</td>\n",
       "      <td>0.320000</td>\n",
       "      <td>4.700000</td>\n",
       "      <td>0.042000</td>\n",
       "      <td>33.000000</td>\n",
       "      <td>133.000000</td>\n",
       "      <td>0.993500</td>\n",
       "      <td>3.180000</td>\n",
       "      <td>0.480000</td>\n",
       "      <td>10.400000</td>\n",
       "      <td>6.000000</td>\n",
       "    </tr>\n",
       "    <tr>\n",
       "      <th>75%</th>\n",
       "      <td>7.300000</td>\n",
       "      <td>0.330000</td>\n",
       "      <td>0.390000</td>\n",
       "      <td>8.900000</td>\n",
       "      <td>0.050000</td>\n",
       "      <td>45.000000</td>\n",
       "      <td>166.000000</td>\n",
       "      <td>0.995710</td>\n",
       "      <td>3.290000</td>\n",
       "      <td>0.550000</td>\n",
       "      <td>11.400000</td>\n",
       "      <td>6.000000</td>\n",
       "    </tr>\n",
       "    <tr>\n",
       "      <th>max</th>\n",
       "      <td>14.200000</td>\n",
       "      <td>1.100000</td>\n",
       "      <td>1.660000</td>\n",
       "      <td>65.800000</td>\n",
       "      <td>0.346000</td>\n",
       "      <td>289.000000</td>\n",
       "      <td>440.000000</td>\n",
       "      <td>1.038980</td>\n",
       "      <td>3.820000</td>\n",
       "      <td>1.080000</td>\n",
       "      <td>14.200000</td>\n",
       "      <td>9.000000</td>\n",
       "    </tr>\n",
       "  </tbody>\n",
       "</table>\n",
       "</div>"
      ],
      "text/plain": [
       "       fixed acidity  volatile acidity  citric acid  residual sugar  \\\n",
       "count    3961.000000       3961.000000  3961.000000     3961.000000   \n",
       "mean        6.839346          0.280538     0.334332        5.914819   \n",
       "std         0.866860          0.103437     0.122446        4.861646   \n",
       "min         3.800000          0.080000     0.000000        0.600000   \n",
       "25%         6.300000          0.210000     0.270000        1.600000   \n",
       "50%         6.800000          0.260000     0.320000        4.700000   \n",
       "75%         7.300000          0.330000     0.390000        8.900000   \n",
       "max        14.200000          1.100000     1.660000       65.800000   \n",
       "\n",
       "         chlorides  free sulfur dioxide  total sulfur dioxide      density  \\\n",
       "count  3961.000000          3961.000000           3961.000000  3961.000000   \n",
       "mean      0.045905            34.889169            137.193512     0.993790   \n",
       "std       0.023103            17.210021             43.129065     0.002905   \n",
       "min       0.009000             2.000000              9.000000     0.987110   \n",
       "25%       0.035000            23.000000            106.000000     0.991620   \n",
       "50%       0.042000            33.000000            133.000000     0.993500   \n",
       "75%       0.050000            45.000000            166.000000     0.995710   \n",
       "max       0.346000           289.000000            440.000000     1.038980   \n",
       "\n",
       "                pH    sulphates      alcohol      quality  \n",
       "count  3961.000000  3961.000000  3961.000000  3961.000000  \n",
       "mean      3.195458     0.490351    10.589358     5.854835  \n",
       "std       0.151546     0.113523     1.217076     0.890683  \n",
       "min       2.720000     0.220000     8.000000     3.000000  \n",
       "25%       3.090000     0.410000     9.500000     5.000000  \n",
       "50%       3.180000     0.480000    10.400000     6.000000  \n",
       "75%       3.290000     0.550000    11.400000     6.000000  \n",
       "max       3.820000     1.080000    14.200000     9.000000  "
      ]
     },
     "execution_count": 63,
     "metadata": {},
     "output_type": "execute_result"
    }
   ],
   "source": [
    "df_white.info()\n",
    "df_white.describe()"
   ]
  },
  {
   "cell_type": "markdown",
   "id": "b60d7960",
   "metadata": {},
   "source": [
    "## Análise exploratória"
   ]
  },
  {
   "cell_type": "markdown",
   "id": "1dcd784f",
   "metadata": {},
   "source": [
    "### Vinhos com a maior qualidade"
   ]
  },
  {
   "cell_type": "code",
   "execution_count": 64,
   "id": "78dee1c8",
   "metadata": {},
   "outputs": [
    {
     "data": {
      "text/html": [
       "<div>\n",
       "<style scoped>\n",
       "    .dataframe tbody tr th:only-of-type {\n",
       "        vertical-align: middle;\n",
       "    }\n",
       "\n",
       "    .dataframe tbody tr th {\n",
       "        vertical-align: top;\n",
       "    }\n",
       "\n",
       "    .dataframe thead th {\n",
       "        text-align: right;\n",
       "    }\n",
       "</style>\n",
       "<table border=\"1\" class=\"dataframe\">\n",
       "  <thead>\n",
       "    <tr style=\"text-align: right;\">\n",
       "      <th></th>\n",
       "      <th>fixed acidity</th>\n",
       "      <th>volatile acidity</th>\n",
       "      <th>citric acid</th>\n",
       "      <th>residual sugar</th>\n",
       "      <th>chlorides</th>\n",
       "      <th>free sulfur dioxide</th>\n",
       "      <th>total sulfur dioxide</th>\n",
       "      <th>density</th>\n",
       "      <th>pH</th>\n",
       "      <th>sulphates</th>\n",
       "      <th>alcohol</th>\n",
       "      <th>quality</th>\n",
       "    </tr>\n",
       "  </thead>\n",
       "  <tbody>\n",
       "    <tr>\n",
       "      <th>774</th>\n",
       "      <td>9.1</td>\n",
       "      <td>0.27</td>\n",
       "      <td>0.45</td>\n",
       "      <td>10.6</td>\n",
       "      <td>0.035</td>\n",
       "      <td>28.0</td>\n",
       "      <td>124.0</td>\n",
       "      <td>0.99700</td>\n",
       "      <td>3.20</td>\n",
       "      <td>0.46</td>\n",
       "      <td>10.4</td>\n",
       "      <td>9</td>\n",
       "    </tr>\n",
       "    <tr>\n",
       "      <th>820</th>\n",
       "      <td>6.6</td>\n",
       "      <td>0.36</td>\n",
       "      <td>0.29</td>\n",
       "      <td>1.6</td>\n",
       "      <td>0.021</td>\n",
       "      <td>24.0</td>\n",
       "      <td>85.0</td>\n",
       "      <td>0.98965</td>\n",
       "      <td>3.41</td>\n",
       "      <td>0.61</td>\n",
       "      <td>12.4</td>\n",
       "      <td>9</td>\n",
       "    </tr>\n",
       "    <tr>\n",
       "      <th>827</th>\n",
       "      <td>7.4</td>\n",
       "      <td>0.24</td>\n",
       "      <td>0.36</td>\n",
       "      <td>2.0</td>\n",
       "      <td>0.031</td>\n",
       "      <td>27.0</td>\n",
       "      <td>139.0</td>\n",
       "      <td>0.99055</td>\n",
       "      <td>3.28</td>\n",
       "      <td>0.48</td>\n",
       "      <td>12.5</td>\n",
       "      <td>9</td>\n",
       "    </tr>\n",
       "    <tr>\n",
       "      <th>876</th>\n",
       "      <td>6.9</td>\n",
       "      <td>0.36</td>\n",
       "      <td>0.34</td>\n",
       "      <td>4.2</td>\n",
       "      <td>0.018</td>\n",
       "      <td>57.0</td>\n",
       "      <td>119.0</td>\n",
       "      <td>0.98980</td>\n",
       "      <td>3.28</td>\n",
       "      <td>0.36</td>\n",
       "      <td>12.7</td>\n",
       "      <td>9</td>\n",
       "    </tr>\n",
       "    <tr>\n",
       "      <th>1605</th>\n",
       "      <td>7.1</td>\n",
       "      <td>0.26</td>\n",
       "      <td>0.49</td>\n",
       "      <td>2.2</td>\n",
       "      <td>0.032</td>\n",
       "      <td>31.0</td>\n",
       "      <td>113.0</td>\n",
       "      <td>0.99030</td>\n",
       "      <td>3.37</td>\n",
       "      <td>0.42</td>\n",
       "      <td>12.9</td>\n",
       "      <td>9</td>\n",
       "    </tr>\n",
       "  </tbody>\n",
       "</table>\n",
       "</div>"
      ],
      "text/plain": [
       "      fixed acidity  volatile acidity  citric acid  residual sugar  chlorides  \\\n",
       "774             9.1              0.27         0.45            10.6      0.035   \n",
       "820             6.6              0.36         0.29             1.6      0.021   \n",
       "827             7.4              0.24         0.36             2.0      0.031   \n",
       "876             6.9              0.36         0.34             4.2      0.018   \n",
       "1605            7.1              0.26         0.49             2.2      0.032   \n",
       "\n",
       "      free sulfur dioxide  total sulfur dioxide  density    pH  sulphates  \\\n",
       "774                  28.0                 124.0  0.99700  3.20       0.46   \n",
       "820                  24.0                  85.0  0.98965  3.41       0.61   \n",
       "827                  27.0                 139.0  0.99055  3.28       0.48   \n",
       "876                  57.0                 119.0  0.98980  3.28       0.36   \n",
       "1605                 31.0                 113.0  0.99030  3.37       0.42   \n",
       "\n",
       "      alcohol  quality  \n",
       "774      10.4        9  \n",
       "820      12.4        9  \n",
       "827      12.5        9  \n",
       "876      12.7        9  \n",
       "1605     12.9        9  "
      ]
     },
     "execution_count": 64,
     "metadata": {},
     "output_type": "execute_result"
    }
   ],
   "source": [
    "df_white[df_white['quality'] == df_white['quality'].max()]"
   ]
  },
  {
   "cell_type": "markdown",
   "id": "11862fa6",
   "metadata": {},
   "source": [
    "### Vinhos com a pior qualidade"
   ]
  },
  {
   "cell_type": "code",
   "execution_count": 65,
   "id": "235f6959",
   "metadata": {},
   "outputs": [
    {
     "data": {
      "text/html": [
       "<div>\n",
       "<style scoped>\n",
       "    .dataframe tbody tr th:only-of-type {\n",
       "        vertical-align: middle;\n",
       "    }\n",
       "\n",
       "    .dataframe tbody tr th {\n",
       "        vertical-align: top;\n",
       "    }\n",
       "\n",
       "    .dataframe thead th {\n",
       "        text-align: right;\n",
       "    }\n",
       "</style>\n",
       "<table border=\"1\" class=\"dataframe\">\n",
       "  <thead>\n",
       "    <tr style=\"text-align: right;\">\n",
       "      <th></th>\n",
       "      <th>fixed acidity</th>\n",
       "      <th>volatile acidity</th>\n",
       "      <th>citric acid</th>\n",
       "      <th>residual sugar</th>\n",
       "      <th>chlorides</th>\n",
       "      <th>free sulfur dioxide</th>\n",
       "      <th>total sulfur dioxide</th>\n",
       "      <th>density</th>\n",
       "      <th>pH</th>\n",
       "      <th>sulphates</th>\n",
       "      <th>alcohol</th>\n",
       "      <th>quality</th>\n",
       "    </tr>\n",
       "  </thead>\n",
       "  <tbody>\n",
       "    <tr>\n",
       "      <th>251</th>\n",
       "      <td>8.5</td>\n",
       "      <td>0.260</td>\n",
       "      <td>0.21</td>\n",
       "      <td>16.20</td>\n",
       "      <td>0.074</td>\n",
       "      <td>41.0</td>\n",
       "      <td>197.0</td>\n",
       "      <td>0.99800</td>\n",
       "      <td>3.02</td>\n",
       "      <td>0.50</td>\n",
       "      <td>9.8</td>\n",
       "      <td>3</td>\n",
       "    </tr>\n",
       "    <tr>\n",
       "      <th>253</th>\n",
       "      <td>5.8</td>\n",
       "      <td>0.240</td>\n",
       "      <td>0.44</td>\n",
       "      <td>3.50</td>\n",
       "      <td>0.029</td>\n",
       "      <td>5.0</td>\n",
       "      <td>109.0</td>\n",
       "      <td>0.99130</td>\n",
       "      <td>3.53</td>\n",
       "      <td>0.43</td>\n",
       "      <td>11.7</td>\n",
       "      <td>3</td>\n",
       "    </tr>\n",
       "    <tr>\n",
       "      <th>294</th>\n",
       "      <td>9.1</td>\n",
       "      <td>0.590</td>\n",
       "      <td>0.38</td>\n",
       "      <td>1.60</td>\n",
       "      <td>0.066</td>\n",
       "      <td>34.0</td>\n",
       "      <td>182.0</td>\n",
       "      <td>0.99680</td>\n",
       "      <td>3.23</td>\n",
       "      <td>0.38</td>\n",
       "      <td>8.5</td>\n",
       "      <td>3</td>\n",
       "    </tr>\n",
       "    <tr>\n",
       "      <th>445</th>\n",
       "      <td>7.1</td>\n",
       "      <td>0.320</td>\n",
       "      <td>0.32</td>\n",
       "      <td>11.00</td>\n",
       "      <td>0.038</td>\n",
       "      <td>16.0</td>\n",
       "      <td>66.0</td>\n",
       "      <td>0.99370</td>\n",
       "      <td>3.24</td>\n",
       "      <td>0.40</td>\n",
       "      <td>11.5</td>\n",
       "      <td>3</td>\n",
       "    </tr>\n",
       "    <tr>\n",
       "      <th>740</th>\n",
       "      <td>6.9</td>\n",
       "      <td>0.390</td>\n",
       "      <td>0.40</td>\n",
       "      <td>4.60</td>\n",
       "      <td>0.022</td>\n",
       "      <td>5.0</td>\n",
       "      <td>19.0</td>\n",
       "      <td>0.99150</td>\n",
       "      <td>3.31</td>\n",
       "      <td>0.37</td>\n",
       "      <td>12.6</td>\n",
       "      <td>3</td>\n",
       "    </tr>\n",
       "    <tr>\n",
       "      <th>873</th>\n",
       "      <td>10.3</td>\n",
       "      <td>0.170</td>\n",
       "      <td>0.47</td>\n",
       "      <td>1.40</td>\n",
       "      <td>0.037</td>\n",
       "      <td>5.0</td>\n",
       "      <td>33.0</td>\n",
       "      <td>0.99390</td>\n",
       "      <td>2.89</td>\n",
       "      <td>0.28</td>\n",
       "      <td>9.6</td>\n",
       "      <td>3</td>\n",
       "    </tr>\n",
       "    <tr>\n",
       "      <th>1034</th>\n",
       "      <td>7.9</td>\n",
       "      <td>0.640</td>\n",
       "      <td>0.46</td>\n",
       "      <td>10.60</td>\n",
       "      <td>0.244</td>\n",
       "      <td>33.0</td>\n",
       "      <td>227.0</td>\n",
       "      <td>0.99830</td>\n",
       "      <td>2.87</td>\n",
       "      <td>0.74</td>\n",
       "      <td>9.1</td>\n",
       "      <td>3</td>\n",
       "    </tr>\n",
       "    <tr>\n",
       "      <th>1229</th>\n",
       "      <td>8.3</td>\n",
       "      <td>0.330</td>\n",
       "      <td>0.42</td>\n",
       "      <td>1.15</td>\n",
       "      <td>0.033</td>\n",
       "      <td>18.0</td>\n",
       "      <td>96.0</td>\n",
       "      <td>0.99110</td>\n",
       "      <td>3.20</td>\n",
       "      <td>0.32</td>\n",
       "      <td>12.4</td>\n",
       "      <td>3</td>\n",
       "    </tr>\n",
       "    <tr>\n",
       "      <th>1417</th>\n",
       "      <td>8.6</td>\n",
       "      <td>0.550</td>\n",
       "      <td>0.35</td>\n",
       "      <td>15.55</td>\n",
       "      <td>0.057</td>\n",
       "      <td>35.5</td>\n",
       "      <td>366.5</td>\n",
       "      <td>1.00010</td>\n",
       "      <td>3.04</td>\n",
       "      <td>0.63</td>\n",
       "      <td>11.0</td>\n",
       "      <td>3</td>\n",
       "    </tr>\n",
       "    <tr>\n",
       "      <th>1484</th>\n",
       "      <td>7.5</td>\n",
       "      <td>0.320</td>\n",
       "      <td>0.24</td>\n",
       "      <td>4.60</td>\n",
       "      <td>0.053</td>\n",
       "      <td>8.0</td>\n",
       "      <td>134.0</td>\n",
       "      <td>0.99580</td>\n",
       "      <td>3.14</td>\n",
       "      <td>0.50</td>\n",
       "      <td>9.1</td>\n",
       "      <td>3</td>\n",
       "    </tr>\n",
       "    <tr>\n",
       "      <th>1688</th>\n",
       "      <td>6.7</td>\n",
       "      <td>0.250</td>\n",
       "      <td>0.26</td>\n",
       "      <td>1.55</td>\n",
       "      <td>0.041</td>\n",
       "      <td>118.5</td>\n",
       "      <td>216.0</td>\n",
       "      <td>0.99490</td>\n",
       "      <td>3.55</td>\n",
       "      <td>0.63</td>\n",
       "      <td>9.4</td>\n",
       "      <td>3</td>\n",
       "    </tr>\n",
       "    <tr>\n",
       "      <th>1931</th>\n",
       "      <td>7.1</td>\n",
       "      <td>0.490</td>\n",
       "      <td>0.22</td>\n",
       "      <td>2.00</td>\n",
       "      <td>0.047</td>\n",
       "      <td>146.5</td>\n",
       "      <td>307.5</td>\n",
       "      <td>0.99240</td>\n",
       "      <td>3.24</td>\n",
       "      <td>0.37</td>\n",
       "      <td>11.0</td>\n",
       "      <td>3</td>\n",
       "    </tr>\n",
       "    <tr>\n",
       "      <th>2050</th>\n",
       "      <td>11.8</td>\n",
       "      <td>0.230</td>\n",
       "      <td>0.38</td>\n",
       "      <td>11.10</td>\n",
       "      <td>0.034</td>\n",
       "      <td>15.0</td>\n",
       "      <td>123.0</td>\n",
       "      <td>0.99970</td>\n",
       "      <td>2.93</td>\n",
       "      <td>0.55</td>\n",
       "      <td>9.7</td>\n",
       "      <td>3</td>\n",
       "    </tr>\n",
       "    <tr>\n",
       "      <th>2373</th>\n",
       "      <td>7.6</td>\n",
       "      <td>0.480</td>\n",
       "      <td>0.37</td>\n",
       "      <td>1.20</td>\n",
       "      <td>0.034</td>\n",
       "      <td>5.0</td>\n",
       "      <td>57.0</td>\n",
       "      <td>0.99256</td>\n",
       "      <td>3.05</td>\n",
       "      <td>0.54</td>\n",
       "      <td>10.4</td>\n",
       "      <td>3</td>\n",
       "    </tr>\n",
       "    <tr>\n",
       "      <th>3087</th>\n",
       "      <td>6.1</td>\n",
       "      <td>0.200</td>\n",
       "      <td>0.34</td>\n",
       "      <td>9.50</td>\n",
       "      <td>0.041</td>\n",
       "      <td>38.0</td>\n",
       "      <td>201.0</td>\n",
       "      <td>0.99500</td>\n",
       "      <td>3.14</td>\n",
       "      <td>0.44</td>\n",
       "      <td>10.1</td>\n",
       "      <td>3</td>\n",
       "    </tr>\n",
       "    <tr>\n",
       "      <th>3265</th>\n",
       "      <td>4.2</td>\n",
       "      <td>0.215</td>\n",
       "      <td>0.23</td>\n",
       "      <td>5.10</td>\n",
       "      <td>0.041</td>\n",
       "      <td>64.0</td>\n",
       "      <td>157.0</td>\n",
       "      <td>0.99688</td>\n",
       "      <td>3.42</td>\n",
       "      <td>0.44</td>\n",
       "      <td>8.0</td>\n",
       "      <td>3</td>\n",
       "    </tr>\n",
       "    <tr>\n",
       "      <th>3307</th>\n",
       "      <td>9.4</td>\n",
       "      <td>0.240</td>\n",
       "      <td>0.29</td>\n",
       "      <td>8.50</td>\n",
       "      <td>0.037</td>\n",
       "      <td>124.0</td>\n",
       "      <td>208.0</td>\n",
       "      <td>0.99395</td>\n",
       "      <td>2.90</td>\n",
       "      <td>0.38</td>\n",
       "      <td>11.0</td>\n",
       "      <td>3</td>\n",
       "    </tr>\n",
       "    <tr>\n",
       "      <th>3409</th>\n",
       "      <td>6.2</td>\n",
       "      <td>0.230</td>\n",
       "      <td>0.35</td>\n",
       "      <td>0.70</td>\n",
       "      <td>0.051</td>\n",
       "      <td>24.0</td>\n",
       "      <td>111.0</td>\n",
       "      <td>0.99160</td>\n",
       "      <td>3.37</td>\n",
       "      <td>0.43</td>\n",
       "      <td>11.0</td>\n",
       "      <td>3</td>\n",
       "    </tr>\n",
       "    <tr>\n",
       "      <th>3810</th>\n",
       "      <td>6.8</td>\n",
       "      <td>0.260</td>\n",
       "      <td>0.34</td>\n",
       "      <td>15.10</td>\n",
       "      <td>0.060</td>\n",
       "      <td>42.0</td>\n",
       "      <td>162.0</td>\n",
       "      <td>0.99705</td>\n",
       "      <td>3.24</td>\n",
       "      <td>0.52</td>\n",
       "      <td>10.5</td>\n",
       "      <td>3</td>\n",
       "    </tr>\n",
       "    <tr>\n",
       "      <th>4745</th>\n",
       "      <td>6.1</td>\n",
       "      <td>0.260</td>\n",
       "      <td>0.25</td>\n",
       "      <td>2.90</td>\n",
       "      <td>0.047</td>\n",
       "      <td>289.0</td>\n",
       "      <td>440.0</td>\n",
       "      <td>0.99314</td>\n",
       "      <td>3.44</td>\n",
       "      <td>0.64</td>\n",
       "      <td>10.5</td>\n",
       "      <td>3</td>\n",
       "    </tr>\n",
       "  </tbody>\n",
       "</table>\n",
       "</div>"
      ],
      "text/plain": [
       "      fixed acidity  volatile acidity  citric acid  residual sugar  chlorides  \\\n",
       "251             8.5             0.260         0.21           16.20      0.074   \n",
       "253             5.8             0.240         0.44            3.50      0.029   \n",
       "294             9.1             0.590         0.38            1.60      0.066   \n",
       "445             7.1             0.320         0.32           11.00      0.038   \n",
       "740             6.9             0.390         0.40            4.60      0.022   \n",
       "873            10.3             0.170         0.47            1.40      0.037   \n",
       "1034            7.9             0.640         0.46           10.60      0.244   \n",
       "1229            8.3             0.330         0.42            1.15      0.033   \n",
       "1417            8.6             0.550         0.35           15.55      0.057   \n",
       "1484            7.5             0.320         0.24            4.60      0.053   \n",
       "1688            6.7             0.250         0.26            1.55      0.041   \n",
       "1931            7.1             0.490         0.22            2.00      0.047   \n",
       "2050           11.8             0.230         0.38           11.10      0.034   \n",
       "2373            7.6             0.480         0.37            1.20      0.034   \n",
       "3087            6.1             0.200         0.34            9.50      0.041   \n",
       "3265            4.2             0.215         0.23            5.10      0.041   \n",
       "3307            9.4             0.240         0.29            8.50      0.037   \n",
       "3409            6.2             0.230         0.35            0.70      0.051   \n",
       "3810            6.8             0.260         0.34           15.10      0.060   \n",
       "4745            6.1             0.260         0.25            2.90      0.047   \n",
       "\n",
       "      free sulfur dioxide  total sulfur dioxide  density    pH  sulphates  \\\n",
       "251                  41.0                 197.0  0.99800  3.02       0.50   \n",
       "253                   5.0                 109.0  0.99130  3.53       0.43   \n",
       "294                  34.0                 182.0  0.99680  3.23       0.38   \n",
       "445                  16.0                  66.0  0.99370  3.24       0.40   \n",
       "740                   5.0                  19.0  0.99150  3.31       0.37   \n",
       "873                   5.0                  33.0  0.99390  2.89       0.28   \n",
       "1034                 33.0                 227.0  0.99830  2.87       0.74   \n",
       "1229                 18.0                  96.0  0.99110  3.20       0.32   \n",
       "1417                 35.5                 366.5  1.00010  3.04       0.63   \n",
       "1484                  8.0                 134.0  0.99580  3.14       0.50   \n",
       "1688                118.5                 216.0  0.99490  3.55       0.63   \n",
       "1931                146.5                 307.5  0.99240  3.24       0.37   \n",
       "2050                 15.0                 123.0  0.99970  2.93       0.55   \n",
       "2373                  5.0                  57.0  0.99256  3.05       0.54   \n",
       "3087                 38.0                 201.0  0.99500  3.14       0.44   \n",
       "3265                 64.0                 157.0  0.99688  3.42       0.44   \n",
       "3307                124.0                 208.0  0.99395  2.90       0.38   \n",
       "3409                 24.0                 111.0  0.99160  3.37       0.43   \n",
       "3810                 42.0                 162.0  0.99705  3.24       0.52   \n",
       "4745                289.0                 440.0  0.99314  3.44       0.64   \n",
       "\n",
       "      alcohol  quality  \n",
       "251       9.8        3  \n",
       "253      11.7        3  \n",
       "294       8.5        3  \n",
       "445      11.5        3  \n",
       "740      12.6        3  \n",
       "873       9.6        3  \n",
       "1034      9.1        3  \n",
       "1229     12.4        3  \n",
       "1417     11.0        3  \n",
       "1484      9.1        3  \n",
       "1688      9.4        3  \n",
       "1931     11.0        3  \n",
       "2050      9.7        3  \n",
       "2373     10.4        3  \n",
       "3087     10.1        3  \n",
       "3265      8.0        3  \n",
       "3307     11.0        3  \n",
       "3409     11.0        3  \n",
       "3810     10.5        3  \n",
       "4745     10.5        3  "
      ]
     },
     "execution_count": 65,
     "metadata": {},
     "output_type": "execute_result"
    }
   ],
   "source": [
    "df_white[df_white['quality'] == df_white['quality'].min()]"
   ]
  },
  {
   "cell_type": "markdown",
   "id": "7494bc60",
   "metadata": {},
   "source": [
    "### Distribuição de notas"
   ]
  },
  {
   "cell_type": "code",
   "execution_count": 66,
   "id": "e181e49c",
   "metadata": {},
   "outputs": [
    {
     "data": {
      "text/plain": [
       "quality\n",
       "6    1788\n",
       "5    1175\n",
       "7     689\n",
       "4     153\n",
       "8     131\n",
       "3      20\n",
       "9       5\n",
       "Name: count, dtype: int64"
      ]
     },
     "execution_count": 66,
     "metadata": {},
     "output_type": "execute_result"
    }
   ],
   "source": [
    "df_white['quality'].value_counts()"
   ]
  },
  {
   "cell_type": "markdown",
   "id": "0d54d6ca",
   "metadata": {},
   "source": [
    "### Impactos na qualidade dos vinhos brancos"
   ]
  },
  {
   "cell_type": "markdown",
   "id": "6ba57700",
   "metadata": {},
   "source": [
    "#### Álcool para vinhos brancos possui relação com a qualidade?"
   ]
  },
  {
   "cell_type": "code",
   "execution_count": 67,
   "id": "68c64761",
   "metadata": {},
   "outputs": [
    {
     "data": {
      "text/plain": [
       "quality\n",
       "3    10.34\n",
       "4    10.20\n",
       "5     9.86\n",
       "6    10.65\n",
       "7    11.52\n",
       "8    11.88\n",
       "9    12.18\n",
       "Name: alcohol, dtype: float64"
      ]
     },
     "execution_count": 67,
     "metadata": {},
     "output_type": "execute_result"
    }
   ],
   "source": [
    "df_white.groupby('quality')['alcohol'].mean().round(2)"
   ]
  },
  {
   "cell_type": "markdown",
   "id": "b141bd33",
   "metadata": {},
   "source": [
    "#### Densidade para vinhos brancos afeta a qualidade?"
   ]
  },
  {
   "cell_type": "code",
   "execution_count": 68,
   "id": "1b9c58e4",
   "metadata": {},
   "outputs": [
    {
     "data": {
      "text/plain": [
       "quality\n",
       "3    0.994884\n",
       "4    0.994199\n",
       "5    0.995072\n",
       "6    0.993722\n",
       "7    0.992059\n",
       "8    0.991745\n",
       "9    0.991460\n",
       "Name: density, dtype: float64"
      ]
     },
     "execution_count": 68,
     "metadata": {},
     "output_type": "execute_result"
    }
   ],
   "source": [
    "df_white.groupby('quality')['density'].mean()"
   ]
  },
  {
   "cell_type": "markdown",
   "id": "28f9863f",
   "metadata": {},
   "source": [
    "#### Sulfeto para vinhos brancos afeta a qualidade?"
   ]
  },
  {
   "cell_type": "code",
   "execution_count": 69,
   "id": "15c08abd",
   "metadata": {},
   "outputs": [
    {
     "data": {
      "text/plain": [
       "quality\n",
       "3    0.475\n",
       "4    0.477\n",
       "5    0.483\n",
       "6    0.492\n",
       "7    0.503\n",
       "8    0.486\n",
       "9    0.466\n",
       "Name: sulphates, dtype: float64"
      ]
     },
     "execution_count": 69,
     "metadata": {},
     "output_type": "execute_result"
    }
   ],
   "source": [
    "df_white.groupby('quality')['sulphates'].mean().round(3)"
   ]
  },
  {
   "cell_type": "markdown",
   "id": "ece6c550",
   "metadata": {},
   "source": [
    "#### Impactos da acidez em vinhos brancos"
   ]
  },
  {
   "cell_type": "code",
   "execution_count": 70,
   "id": "11e15e04",
   "metadata": {},
   "outputs": [
    {
     "data": {
      "text/plain": [
       "quality\n",
       "3    7.600000\n",
       "4    7.139869\n",
       "5    6.921745\n",
       "6    6.819435\n",
       "7    6.701089\n",
       "8    6.609924\n",
       "9    7.420000\n",
       "Name: fixed acidity, dtype: float64"
      ]
     },
     "execution_count": 70,
     "metadata": {},
     "output_type": "execute_result"
    }
   ],
   "source": [
    "df_white.groupby('quality')['fixed acidity'].mean()"
   ]
  },
  {
   "cell_type": "code",
   "execution_count": 71,
   "id": "b6546015",
   "metadata": {},
   "outputs": [
    {
     "data": {
      "text/plain": [
       "quality\n",
       "3    0.333250\n",
       "4    0.382157\n",
       "5    0.303306\n",
       "6    0.261630\n",
       "7    0.265363\n",
       "8    0.286794\n",
       "9    0.298000\n",
       "Name: volatile acidity, dtype: float64"
      ]
     },
     "execution_count": 71,
     "metadata": {},
     "output_type": "execute_result"
    }
   ],
   "source": [
    "df_white.groupby('quality')['volatile acidity'].mean()"
   ]
  },
  {
   "cell_type": "code",
   "execution_count": 72,
   "id": "1c7db21a",
   "metadata": {},
   "outputs": [
    {
     "data": {
      "text/plain": [
       "quality\n",
       "3    0.336000\n",
       "4    0.305229\n",
       "5    0.335957\n",
       "6    0.338227\n",
       "7    0.327358\n",
       "8    0.335038\n",
       "9    0.386000\n",
       "Name: citric acid, dtype: float64"
      ]
     },
     "execution_count": 72,
     "metadata": {},
     "output_type": "execute_result"
    }
   ],
   "source": [
    "df_white.groupby('quality')['citric acid'].mean()"
   ]
  },
  {
   "cell_type": "markdown",
   "id": "9785f44b",
   "metadata": {},
   "source": [
    "#### Impactos do dióxido de sulfúrio"
   ]
  },
  {
   "cell_type": "code",
   "execution_count": 73,
   "id": "5eea7355",
   "metadata": {},
   "outputs": [
    {
     "data": {
      "text/plain": [
       "quality\n",
       "3    53.32\n",
       "4    23.13\n",
       "5    36.00\n",
       "6    35.31\n",
       "7    33.85\n",
       "8    35.62\n",
       "9    33.40\n",
       "Name: free sulfur dioxide, dtype: float64"
      ]
     },
     "execution_count": 73,
     "metadata": {},
     "output_type": "execute_result"
    }
   ],
   "source": [
    "df_white.groupby('quality')['free sulfur dioxide'].mean().round(2)"
   ]
  },
  {
   "cell_type": "code",
   "execution_count": 74,
   "id": "75235a1c",
   "metadata": {},
   "outputs": [
    {
     "data": {
      "text/plain": [
       "quality\n",
       "3    170.60\n",
       "4    124.13\n",
       "5    150.10\n",
       "6    136.46\n",
       "7    122.05\n",
       "8    122.03\n",
       "9    116.00\n",
       "Name: total sulfur dioxide, dtype: float64"
      ]
     },
     "execution_count": 74,
     "metadata": {},
     "output_type": "execute_result"
    }
   ],
   "source": [
    "df_white.groupby('quality')['total sulfur dioxide'].mean().round(2)"
   ]
  },
  {
   "cell_type": "markdown",
   "id": "dea17653",
   "metadata": {},
   "source": [
    "#### PH para vinhos brancos afeta a qualidade?"
   ]
  },
  {
   "cell_type": "code",
   "execution_count": 75,
   "id": "12607cdb",
   "metadata": {},
   "outputs": [
    {
     "data": {
      "text/plain": [
       "quality\n",
       "3    3.188\n",
       "4    3.185\n",
       "5    3.172\n",
       "6    3.196\n",
       "7    3.228\n",
       "8    3.235\n",
       "9    3.308\n",
       "Name: pH, dtype: float64"
      ]
     },
     "execution_count": 75,
     "metadata": {},
     "output_type": "execute_result"
    }
   ],
   "source": [
    "df_white.groupby('quality')['pH'].mean().round(3)"
   ]
  },
  {
   "cell_type": "markdown",
   "id": "02089770",
   "metadata": {},
   "source": [
    "#### Açúcar para vinhos brancos influencia a qualidade?"
   ]
  },
  {
   "cell_type": "code",
   "execution_count": 76,
   "id": "de688b14",
   "metadata": {},
   "outputs": [
    {
     "data": {
      "text/plain": [
       "quality\n",
       "3    6.39\n",
       "4    4.50\n",
       "5    6.94\n",
       "6    5.96\n",
       "7    4.52\n",
       "8    5.06\n",
       "9    4.12\n",
       "Name: residual sugar, dtype: float64"
      ]
     },
     "execution_count": 76,
     "metadata": {},
     "output_type": "execute_result"
    }
   ],
   "source": [
    "df_white.groupby('quality')['residual sugar'].mean().round(2)"
   ]
  },
  {
   "cell_type": "markdown",
   "id": "bed16625",
   "metadata": {},
   "source": [
    "#### Cloreto afeta a qualidade dos vinhos brancos?"
   ]
  },
  {
   "cell_type": "code",
   "execution_count": 77,
   "id": "20360b72",
   "metadata": {},
   "outputs": [
    {
     "data": {
      "text/plain": [
       "quality\n",
       "3    0.054\n",
       "4    0.050\n",
       "5    0.052\n",
       "6    0.045\n",
       "7    0.038\n",
       "8    0.037\n",
       "9    0.027\n",
       "Name: chlorides, dtype: float64"
      ]
     },
     "execution_count": 77,
     "metadata": {},
     "output_type": "execute_result"
    }
   ],
   "source": [
    "df_white.groupby('quality')['chlorides'].mean().round(3)"
   ]
  },
  {
   "cell_type": "markdown",
   "id": "b6ef5641",
   "metadata": {},
   "source": [
    "## Visualizações"
   ]
  },
  {
   "cell_type": "markdown",
   "id": "9aacc148",
   "metadata": {},
   "source": [
    "### Gráfico de correlações"
   ]
  },
  {
   "cell_type": "code",
   "execution_count": 78,
   "id": "cca72189",
   "metadata": {},
   "outputs": [
    {
     "data": {
      "text/plain": [
       "<Axes: >"
      ]
     },
     "execution_count": 78,
     "metadata": {},
     "output_type": "execute_result"
    },
    {
     "data": {
      "image/png": "[encoded data removed]",
      "text/plain": [
       "<Figure size 640x480 with 2 Axes>"
      ]
     },
     "metadata": {},
     "output_type": "display_data"
    }
   ],
   "source": [
    "sns.heatmap(df_white.corr())"
   ]
  },
  {
   "cell_type": "markdown",
   "id": "f5d6d47d",
   "metadata": {},
   "source": [
    "### Visualizações sobre os marcadores que mais influenciam na qualidade"
   ]
  },
  {
   "cell_type": "markdown",
   "id": "3b1239f5",
   "metadata": {},
   "source": [
    "### Álcool"
   ]
  },
  {
   "cell_type": "code",
   "execution_count": 79,
   "id": "6d9b02a8",
   "metadata": {},
   "outputs": [
    {
     "data": {
      "image/png": "[encoded data removed]",
      "text/plain": [
       "<Figure size 1000x600 with 1 Axes>"
      ]
     },
     "metadata": {},
     "output_type": "display_data"
    }
   ],
   "source": [
    "alcool_branco = df_white.groupby('quality')['alcohol'].mean().reset_index()\n",
    "\n",
    "plt.figure(figsize=(10, 6))\n",
    "sns.lineplot(x='quality', y='alcohol', data=alcool_branco, color='red')\n",
    "\n",
    "plt.title('Álcool X Qualidade do vinho')\n",
    "plt.xlabel('Qualidade')\n",
    "plt.ylabel('Álcool')\n",
    "plt.show()"
   ]
  },
  {
   "cell_type": "markdown",
   "id": "b8094b49",
   "metadata": {},
   "source": [
    "### Acidez volátil"
   ]
  },
  {
   "cell_type": "code",
   "execution_count": 80,
   "id": "74b57c4e",
   "metadata": {},
   "outputs": [
    {
     "data": {
      "image/png": "[encoded data removed]",
      "text/plain": [
       "<Figure size 1000x600 with 1 Axes>"
      ]
     },
     "metadata": {},
     "output_type": "display_data"
    }
   ],
   "source": [
    "volatil_branco = df_white.groupby('quality')['volatile acidity'].mean().reset_index()\n",
    "\n",
    "plt.figure(figsize=(10, 6))\n",
    "sns.lineplot(x='quality', y='volatile acidity', data=volatil_branco, color='red')\n",
    "\n",
    "plt.title('Acidez volátil X Qualidade do vinho')\n",
    "plt.xlabel('Qualidade')\n",
    "plt.ylabel('Acidez volátil')\n",
    "plt.show()"
   ]
  },
  {
   "cell_type": "markdown",
   "id": "0591be70",
   "metadata": {},
   "source": [
    "### Cloreto"
   ]
  },
  {
   "cell_type": "code",
   "execution_count": 81,
   "id": "9a284c6f",
   "metadata": {},
   "outputs": [
    {
     "data": {
      "image/png": "[encoded data removed]",
      "text/plain": [
       "<Figure size 1000x600 with 1 Axes>"
      ]
     },
     "metadata": {},
     "output_type": "display_data"
    }
   ],
   "source": [
    "cloreto_branco = df_white.groupby('quality')['chlorides'].mean().reset_index()\n",
    "\n",
    "plt.figure(figsize=(10, 6))\n",
    "sns.lineplot(x='quality', y='chlorides', data=cloreto_branco, color='red')\n",
    "\n",
    "plt.title('Cloreto X Qualidade do vinho')\n",
    "plt.xlabel('Qualidade')\n",
    "plt.ylabel('Cloreto')\n",
    "plt.show()"
   ]
  },
  {
   "cell_type": "markdown",
   "id": "f1570e4e",
   "metadata": {},
   "source": [
    "### Dióxido de sulfúrio"
   ]
  },
  {
   "cell_type": "code",
   "execution_count": 82,
   "id": "eeaa57d6",
   "metadata": {},
   "outputs": [
    {
     "data": {
      "image/png": "[encoded data removed]",
      "text/plain": [
       "<Figure size 1000x600 with 1 Axes>"
      ]
     },
     "metadata": {},
     "output_type": "display_data"
    }
   ],
   "source": [
    "dioxido_branco = df_white.groupby('quality')['total sulfur dioxide'].mean().reset_index()\n",
    "\n",
    "plt.figure(figsize=(10, 6))\n",
    "sns.lineplot(x='quality', y='total sulfur dioxide', data=dioxido_branco, color='red')\n",
    "\n",
    "plt.title('Dióxido de sulfúrio total X Qualidade do vinho')\n",
    "plt.xlabel('Qualidade')\n",
    "plt.ylabel('Dióxido de sulfúrio')\n",
    "plt.show()"
   ]
  },
  {
   "cell_type": "markdown",
   "id": "c59e07f6",
   "metadata": {},
   "source": [
    "# \n",
    "---\n"
   ]
  },
  {
   "cell_type": "markdown",
   "id": "1024dbc1",
   "metadata": {},
   "source": [
    "# Vinhos vermelhos"
   ]
  },
  {
   "cell_type": "markdown",
   "id": "695c1594",
   "metadata": {},
   "source": [
    "## Verificando se há dados nulos "
   ]
  },
  {
   "cell_type": "code",
   "execution_count": 83,
   "id": "e7719da6",
   "metadata": {},
   "outputs": [
    {
     "data": {
      "text/plain": [
       "fixed acidity           0\n",
       "volatile acidity        0\n",
       "citric acid             0\n",
       "residual sugar          0\n",
       "chlorides               0\n",
       "free sulfur dioxide     0\n",
       "total sulfur dioxide    0\n",
       "density                 0\n",
       "pH                      0\n",
       "sulphates               0\n",
       "alcohol                 0\n",
       "quality                 0\n",
       "dtype: int64"
      ]
     },
     "execution_count": 83,
     "metadata": {},
     "output_type": "execute_result"
    }
   ],
   "source": [
    "df_red.isna().sum().sort_values(ascending=False)"
   ]
  },
  {
   "cell_type": "markdown",
   "id": "56f568d4",
   "metadata": {},
   "source": [
    "## Removendo dados duplicados"
   ]
  },
  {
   "cell_type": "code",
   "execution_count": 84,
   "id": "99294ea1",
   "metadata": {},
   "outputs": [],
   "source": [
    "df_red.drop_duplicates(inplace=True)"
   ]
  },
  {
   "cell_type": "markdown",
   "id": "9dd6b921",
   "metadata": {},
   "source": [
    "## Exploração dos dados"
   ]
  },
  {
   "cell_type": "code",
   "execution_count": 85,
   "id": "73614afe",
   "metadata": {},
   "outputs": [
    {
     "name": "stdout",
     "output_type": "stream",
     "text": [
      "<class 'pandas.core.frame.DataFrame'>\n",
      "Index: 1359 entries, 0 to 1598\n",
      "Data columns (total 12 columns):\n",
      " #   Column                Non-Null Count  Dtype  \n",
      "---  ------                --------------  -----  \n",
      " 0   fixed acidity         1359 non-null   float64\n",
      " 1   volatile acidity      1359 non-null   float64\n",
      " 2   citric acid           1359 non-null   float64\n",
      " 3   residual sugar        1359 non-null   float64\n",
      " 4   chlorides             1359 non-null   float64\n",
      " 5   free sulfur dioxide   1359 non-null   float64\n",
      " 6   total sulfur dioxide  1359 non-null   float64\n",
      " 7   density               1359 non-null   float64\n",
      " 8   pH                    1359 non-null   float64\n",
      " 9   sulphates             1359 non-null   float64\n",
      " 10  alcohol               1359 non-null   float64\n",
      " 11  quality               1359 non-null   int64  \n",
      "dtypes: float64(11), int64(1)\n",
      "memory usage: 138.0 KB\n"
     ]
    },
    {
     "data": {
      "text/html": [
       "<div>\n",
       "<style scoped>\n",
       "    .dataframe tbody tr th:only-of-type {\n",
       "        vertical-align: middle;\n",
       "    }\n",
       "\n",
       "    .dataframe tbody tr th {\n",
       "        vertical-align: top;\n",
       "    }\n",
       "\n",
       "    .dataframe thead th {\n",
       "        text-align: right;\n",
       "    }\n",
       "</style>\n",
       "<table border=\"1\" class=\"dataframe\">\n",
       "  <thead>\n",
       "    <tr style=\"text-align: right;\">\n",
       "      <th></th>\n",
       "      <th>fixed acidity</th>\n",
       "      <th>volatile acidity</th>\n",
       "      <th>citric acid</th>\n",
       "      <th>residual sugar</th>\n",
       "      <th>chlorides</th>\n",
       "      <th>free sulfur dioxide</th>\n",
       "      <th>total sulfur dioxide</th>\n",
       "      <th>density</th>\n",
       "      <th>pH</th>\n",
       "      <th>sulphates</th>\n",
       "      <th>alcohol</th>\n",
       "      <th>quality</th>\n",
       "    </tr>\n",
       "  </thead>\n",
       "  <tbody>\n",
       "    <tr>\n",
       "      <th>count</th>\n",
       "      <td>1359.000000</td>\n",
       "      <td>1359.000000</td>\n",
       "      <td>1359.000000</td>\n",
       "      <td>1359.000000</td>\n",
       "      <td>1359.000000</td>\n",
       "      <td>1359.000000</td>\n",
       "      <td>1359.000000</td>\n",
       "      <td>1359.000000</td>\n",
       "      <td>1359.000000</td>\n",
       "      <td>1359.000000</td>\n",
       "      <td>1359.000000</td>\n",
       "      <td>1359.000000</td>\n",
       "    </tr>\n",
       "    <tr>\n",
       "      <th>mean</th>\n",
       "      <td>8.310596</td>\n",
       "      <td>0.529478</td>\n",
       "      <td>0.272333</td>\n",
       "      <td>2.523400</td>\n",
       "      <td>0.088124</td>\n",
       "      <td>15.893304</td>\n",
       "      <td>46.825975</td>\n",
       "      <td>0.996709</td>\n",
       "      <td>3.309787</td>\n",
       "      <td>0.658705</td>\n",
       "      <td>10.432315</td>\n",
       "      <td>5.623252</td>\n",
       "    </tr>\n",
       "    <tr>\n",
       "      <th>std</th>\n",
       "      <td>1.736990</td>\n",
       "      <td>0.183031</td>\n",
       "      <td>0.195537</td>\n",
       "      <td>1.352314</td>\n",
       "      <td>0.049377</td>\n",
       "      <td>10.447270</td>\n",
       "      <td>33.408946</td>\n",
       "      <td>0.001869</td>\n",
       "      <td>0.155036</td>\n",
       "      <td>0.170667</td>\n",
       "      <td>1.082065</td>\n",
       "      <td>0.823578</td>\n",
       "    </tr>\n",
       "    <tr>\n",
       "      <th>min</th>\n",
       "      <td>4.600000</td>\n",
       "      <td>0.120000</td>\n",
       "      <td>0.000000</td>\n",
       "      <td>0.900000</td>\n",
       "      <td>0.012000</td>\n",
       "      <td>1.000000</td>\n",
       "      <td>6.000000</td>\n",
       "      <td>0.990070</td>\n",
       "      <td>2.740000</td>\n",
       "      <td>0.330000</td>\n",
       "      <td>8.400000</td>\n",
       "      <td>3.000000</td>\n",
       "    </tr>\n",
       "    <tr>\n",
       "      <th>25%</th>\n",
       "      <td>7.100000</td>\n",
       "      <td>0.390000</td>\n",
       "      <td>0.090000</td>\n",
       "      <td>1.900000</td>\n",
       "      <td>0.070000</td>\n",
       "      <td>7.000000</td>\n",
       "      <td>22.000000</td>\n",
       "      <td>0.995600</td>\n",
       "      <td>3.210000</td>\n",
       "      <td>0.550000</td>\n",
       "      <td>9.500000</td>\n",
       "      <td>5.000000</td>\n",
       "    </tr>\n",
       "    <tr>\n",
       "      <th>50%</th>\n",
       "      <td>7.900000</td>\n",
       "      <td>0.520000</td>\n",
       "      <td>0.260000</td>\n",
       "      <td>2.200000</td>\n",
       "      <td>0.079000</td>\n",
       "      <td>14.000000</td>\n",
       "      <td>38.000000</td>\n",
       "      <td>0.996700</td>\n",
       "      <td>3.310000</td>\n",
       "      <td>0.620000</td>\n",
       "      <td>10.200000</td>\n",
       "      <td>6.000000</td>\n",
       "    </tr>\n",
       "    <tr>\n",
       "      <th>75%</th>\n",
       "      <td>9.200000</td>\n",
       "      <td>0.640000</td>\n",
       "      <td>0.430000</td>\n",
       "      <td>2.600000</td>\n",
       "      <td>0.091000</td>\n",
       "      <td>21.000000</td>\n",
       "      <td>63.000000</td>\n",
       "      <td>0.997820</td>\n",
       "      <td>3.400000</td>\n",
       "      <td>0.730000</td>\n",
       "      <td>11.100000</td>\n",
       "      <td>6.000000</td>\n",
       "    </tr>\n",
       "    <tr>\n",
       "      <th>max</th>\n",
       "      <td>15.900000</td>\n",
       "      <td>1.580000</td>\n",
       "      <td>1.000000</td>\n",
       "      <td>15.500000</td>\n",
       "      <td>0.611000</td>\n",
       "      <td>72.000000</td>\n",
       "      <td>289.000000</td>\n",
       "      <td>1.003690</td>\n",
       "      <td>4.010000</td>\n",
       "      <td>2.000000</td>\n",
       "      <td>14.900000</td>\n",
       "      <td>8.000000</td>\n",
       "    </tr>\n",
       "  </tbody>\n",
       "</table>\n",
       "</div>"
      ],
      "text/plain": [
       "       fixed acidity  volatile acidity  citric acid  residual sugar  \\\n",
       "count    1359.000000       1359.000000  1359.000000     1359.000000   \n",
       "mean        8.310596          0.529478     0.272333        2.523400   \n",
       "std         1.736990          0.183031     0.195537        1.352314   \n",
       "min         4.600000          0.120000     0.000000        0.900000   \n",
       "25%         7.100000          0.390000     0.090000        1.900000   \n",
       "50%         7.900000          0.520000     0.260000        2.200000   \n",
       "75%         9.200000          0.640000     0.430000        2.600000   \n",
       "max        15.900000          1.580000     1.000000       15.500000   \n",
       "\n",
       "         chlorides  free sulfur dioxide  total sulfur dioxide      density  \\\n",
       "count  1359.000000          1359.000000           1359.000000  1359.000000   \n",
       "mean      0.088124            15.893304             46.825975     0.996709   \n",
       "std       0.049377            10.447270             33.408946     0.001869   \n",
       "min       0.012000             1.000000              6.000000     0.990070   \n",
       "25%       0.070000             7.000000             22.000000     0.995600   \n",
       "50%       0.079000            14.000000             38.000000     0.996700   \n",
       "75%       0.091000            21.000000             63.000000     0.997820   \n",
       "max       0.611000            72.000000            289.000000     1.003690   \n",
       "\n",
       "                pH    sulphates      alcohol      quality  \n",
       "count  1359.000000  1359.000000  1359.000000  1359.000000  \n",
       "mean      3.309787     0.658705    10.432315     5.623252  \n",
       "std       0.155036     0.170667     1.082065     0.823578  \n",
       "min       2.740000     0.330000     8.400000     3.000000  \n",
       "25%       3.210000     0.550000     9.500000     5.000000  \n",
       "50%       3.310000     0.620000    10.200000     6.000000  \n",
       "75%       3.400000     0.730000    11.100000     6.000000  \n",
       "max       4.010000     2.000000    14.900000     8.000000  "
      ]
     },
     "execution_count": 85,
     "metadata": {},
     "output_type": "execute_result"
    }
   ],
   "source": [
    "df_red.info()\n",
    "df_red.describe()"
   ]
  },
  {
   "cell_type": "markdown",
   "id": "3d95e4f5",
   "metadata": {},
   "source": [
    "## Análise exploratória"
   ]
  },
  {
   "cell_type": "markdown",
   "id": "ebb3d7f4",
   "metadata": {},
   "source": [
    "### Vinhos com a maior qualidade"
   ]
  },
  {
   "cell_type": "code",
   "execution_count": 86,
   "id": "0137d5c8",
   "metadata": {},
   "outputs": [
    {
     "data": {
      "text/html": [
       "<div>\n",
       "<style scoped>\n",
       "    .dataframe tbody tr th:only-of-type {\n",
       "        vertical-align: middle;\n",
       "    }\n",
       "\n",
       "    .dataframe tbody tr th {\n",
       "        vertical-align: top;\n",
       "    }\n",
       "\n",
       "    .dataframe thead th {\n",
       "        text-align: right;\n",
       "    }\n",
       "</style>\n",
       "<table border=\"1\" class=\"dataframe\">\n",
       "  <thead>\n",
       "    <tr style=\"text-align: right;\">\n",
       "      <th></th>\n",
       "      <th>fixed acidity</th>\n",
       "      <th>volatile acidity</th>\n",
       "      <th>citric acid</th>\n",
       "      <th>residual sugar</th>\n",
       "      <th>chlorides</th>\n",
       "      <th>free sulfur dioxide</th>\n",
       "      <th>total sulfur dioxide</th>\n",
       "      <th>density</th>\n",
       "      <th>pH</th>\n",
       "      <th>sulphates</th>\n",
       "      <th>alcohol</th>\n",
       "      <th>quality</th>\n",
       "    </tr>\n",
       "  </thead>\n",
       "  <tbody>\n",
       "    <tr>\n",
       "      <th>267</th>\n",
       "      <td>7.9</td>\n",
       "      <td>0.35</td>\n",
       "      <td>0.46</td>\n",
       "      <td>3.6</td>\n",
       "      <td>0.078</td>\n",
       "      <td>15.0</td>\n",
       "      <td>37.0</td>\n",
       "      <td>0.99730</td>\n",
       "      <td>3.35</td>\n",
       "      <td>0.86</td>\n",
       "      <td>12.8</td>\n",
       "      <td>8</td>\n",
       "    </tr>\n",
       "    <tr>\n",
       "      <th>278</th>\n",
       "      <td>10.3</td>\n",
       "      <td>0.32</td>\n",
       "      <td>0.45</td>\n",
       "      <td>6.4</td>\n",
       "      <td>0.073</td>\n",
       "      <td>5.0</td>\n",
       "      <td>13.0</td>\n",
       "      <td>0.99760</td>\n",
       "      <td>3.23</td>\n",
       "      <td>0.82</td>\n",
       "      <td>12.6</td>\n",
       "      <td>8</td>\n",
       "    </tr>\n",
       "    <tr>\n",
       "      <th>390</th>\n",
       "      <td>5.6</td>\n",
       "      <td>0.85</td>\n",
       "      <td>0.05</td>\n",
       "      <td>1.4</td>\n",
       "      <td>0.045</td>\n",
       "      <td>12.0</td>\n",
       "      <td>88.0</td>\n",
       "      <td>0.99240</td>\n",
       "      <td>3.56</td>\n",
       "      <td>0.82</td>\n",
       "      <td>12.9</td>\n",
       "      <td>8</td>\n",
       "    </tr>\n",
       "    <tr>\n",
       "      <th>440</th>\n",
       "      <td>12.6</td>\n",
       "      <td>0.31</td>\n",
       "      <td>0.72</td>\n",
       "      <td>2.2</td>\n",
       "      <td>0.072</td>\n",
       "      <td>6.0</td>\n",
       "      <td>29.0</td>\n",
       "      <td>0.99870</td>\n",
       "      <td>2.88</td>\n",
       "      <td>0.82</td>\n",
       "      <td>9.8</td>\n",
       "      <td>8</td>\n",
       "    </tr>\n",
       "    <tr>\n",
       "      <th>455</th>\n",
       "      <td>11.3</td>\n",
       "      <td>0.62</td>\n",
       "      <td>0.67</td>\n",
       "      <td>5.2</td>\n",
       "      <td>0.086</td>\n",
       "      <td>6.0</td>\n",
       "      <td>19.0</td>\n",
       "      <td>0.99880</td>\n",
       "      <td>3.22</td>\n",
       "      <td>0.69</td>\n",
       "      <td>13.4</td>\n",
       "      <td>8</td>\n",
       "    </tr>\n",
       "    <tr>\n",
       "      <th>481</th>\n",
       "      <td>9.4</td>\n",
       "      <td>0.30</td>\n",
       "      <td>0.56</td>\n",
       "      <td>2.8</td>\n",
       "      <td>0.080</td>\n",
       "      <td>6.0</td>\n",
       "      <td>17.0</td>\n",
       "      <td>0.99640</td>\n",
       "      <td>3.15</td>\n",
       "      <td>0.92</td>\n",
       "      <td>11.7</td>\n",
       "      <td>8</td>\n",
       "    </tr>\n",
       "    <tr>\n",
       "      <th>495</th>\n",
       "      <td>10.7</td>\n",
       "      <td>0.35</td>\n",
       "      <td>0.53</td>\n",
       "      <td>2.6</td>\n",
       "      <td>0.070</td>\n",
       "      <td>5.0</td>\n",
       "      <td>16.0</td>\n",
       "      <td>0.99720</td>\n",
       "      <td>3.15</td>\n",
       "      <td>0.65</td>\n",
       "      <td>11.0</td>\n",
       "      <td>8</td>\n",
       "    </tr>\n",
       "    <tr>\n",
       "      <th>588</th>\n",
       "      <td>5.0</td>\n",
       "      <td>0.42</td>\n",
       "      <td>0.24</td>\n",
       "      <td>2.0</td>\n",
       "      <td>0.060</td>\n",
       "      <td>19.0</td>\n",
       "      <td>50.0</td>\n",
       "      <td>0.99170</td>\n",
       "      <td>3.72</td>\n",
       "      <td>0.74</td>\n",
       "      <td>14.0</td>\n",
       "      <td>8</td>\n",
       "    </tr>\n",
       "    <tr>\n",
       "      <th>828</th>\n",
       "      <td>7.8</td>\n",
       "      <td>0.57</td>\n",
       "      <td>0.09</td>\n",
       "      <td>2.3</td>\n",
       "      <td>0.065</td>\n",
       "      <td>34.0</td>\n",
       "      <td>45.0</td>\n",
       "      <td>0.99417</td>\n",
       "      <td>3.46</td>\n",
       "      <td>0.74</td>\n",
       "      <td>12.7</td>\n",
       "      <td>8</td>\n",
       "    </tr>\n",
       "    <tr>\n",
       "      <th>1061</th>\n",
       "      <td>9.1</td>\n",
       "      <td>0.40</td>\n",
       "      <td>0.50</td>\n",
       "      <td>1.8</td>\n",
       "      <td>0.071</td>\n",
       "      <td>7.0</td>\n",
       "      <td>16.0</td>\n",
       "      <td>0.99462</td>\n",
       "      <td>3.21</td>\n",
       "      <td>0.69</td>\n",
       "      <td>12.5</td>\n",
       "      <td>8</td>\n",
       "    </tr>\n",
       "    <tr>\n",
       "      <th>1090</th>\n",
       "      <td>10.0</td>\n",
       "      <td>0.26</td>\n",
       "      <td>0.54</td>\n",
       "      <td>1.9</td>\n",
       "      <td>0.083</td>\n",
       "      <td>42.0</td>\n",
       "      <td>74.0</td>\n",
       "      <td>0.99451</td>\n",
       "      <td>2.98</td>\n",
       "      <td>0.63</td>\n",
       "      <td>11.8</td>\n",
       "      <td>8</td>\n",
       "    </tr>\n",
       "    <tr>\n",
       "      <th>1120</th>\n",
       "      <td>7.9</td>\n",
       "      <td>0.54</td>\n",
       "      <td>0.34</td>\n",
       "      <td>2.5</td>\n",
       "      <td>0.076</td>\n",
       "      <td>8.0</td>\n",
       "      <td>17.0</td>\n",
       "      <td>0.99235</td>\n",
       "      <td>3.20</td>\n",
       "      <td>0.72</td>\n",
       "      <td>13.1</td>\n",
       "      <td>8</td>\n",
       "    </tr>\n",
       "    <tr>\n",
       "      <th>1202</th>\n",
       "      <td>8.6</td>\n",
       "      <td>0.42</td>\n",
       "      <td>0.39</td>\n",
       "      <td>1.8</td>\n",
       "      <td>0.068</td>\n",
       "      <td>6.0</td>\n",
       "      <td>12.0</td>\n",
       "      <td>0.99516</td>\n",
       "      <td>3.35</td>\n",
       "      <td>0.69</td>\n",
       "      <td>11.7</td>\n",
       "      <td>8</td>\n",
       "    </tr>\n",
       "    <tr>\n",
       "      <th>1269</th>\n",
       "      <td>5.5</td>\n",
       "      <td>0.49</td>\n",
       "      <td>0.03</td>\n",
       "      <td>1.8</td>\n",
       "      <td>0.044</td>\n",
       "      <td>28.0</td>\n",
       "      <td>87.0</td>\n",
       "      <td>0.99080</td>\n",
       "      <td>3.50</td>\n",
       "      <td>0.82</td>\n",
       "      <td>14.0</td>\n",
       "      <td>8</td>\n",
       "    </tr>\n",
       "    <tr>\n",
       "      <th>1403</th>\n",
       "      <td>7.2</td>\n",
       "      <td>0.33</td>\n",
       "      <td>0.33</td>\n",
       "      <td>1.7</td>\n",
       "      <td>0.061</td>\n",
       "      <td>3.0</td>\n",
       "      <td>13.0</td>\n",
       "      <td>0.99600</td>\n",
       "      <td>3.23</td>\n",
       "      <td>1.10</td>\n",
       "      <td>10.0</td>\n",
       "      <td>8</td>\n",
       "    </tr>\n",
       "    <tr>\n",
       "      <th>1449</th>\n",
       "      <td>7.2</td>\n",
       "      <td>0.38</td>\n",
       "      <td>0.31</td>\n",
       "      <td>2.0</td>\n",
       "      <td>0.056</td>\n",
       "      <td>15.0</td>\n",
       "      <td>29.0</td>\n",
       "      <td>0.99472</td>\n",
       "      <td>3.23</td>\n",
       "      <td>0.76</td>\n",
       "      <td>11.3</td>\n",
       "      <td>8</td>\n",
       "    </tr>\n",
       "    <tr>\n",
       "      <th>1549</th>\n",
       "      <td>7.4</td>\n",
       "      <td>0.36</td>\n",
       "      <td>0.30</td>\n",
       "      <td>1.8</td>\n",
       "      <td>0.074</td>\n",
       "      <td>17.0</td>\n",
       "      <td>24.0</td>\n",
       "      <td>0.99419</td>\n",
       "      <td>3.24</td>\n",
       "      <td>0.70</td>\n",
       "      <td>11.4</td>\n",
       "      <td>8</td>\n",
       "    </tr>\n",
       "  </tbody>\n",
       "</table>\n",
       "</div>"
      ],
      "text/plain": [
       "      fixed acidity  volatile acidity  citric acid  residual sugar  chlorides  \\\n",
       "267             7.9              0.35         0.46             3.6      0.078   \n",
       "278            10.3              0.32         0.45             6.4      0.073   \n",
       "390             5.6              0.85         0.05             1.4      0.045   \n",
       "440            12.6              0.31         0.72             2.2      0.072   \n",
       "455            11.3              0.62         0.67             5.2      0.086   \n",
       "481             9.4              0.30         0.56             2.8      0.080   \n",
       "495            10.7              0.35         0.53             2.6      0.070   \n",
       "588             5.0              0.42         0.24             2.0      0.060   \n",
       "828             7.8              0.57         0.09             2.3      0.065   \n",
       "1061            9.1              0.40         0.50             1.8      0.071   \n",
       "1090           10.0              0.26         0.54             1.9      0.083   \n",
       "1120            7.9              0.54         0.34             2.5      0.076   \n",
       "1202            8.6              0.42         0.39             1.8      0.068   \n",
       "1269            5.5              0.49         0.03             1.8      0.044   \n",
       "1403            7.2              0.33         0.33             1.7      0.061   \n",
       "1449            7.2              0.38         0.31             2.0      0.056   \n",
       "1549            7.4              0.36         0.30             1.8      0.074   \n",
       "\n",
       "      free sulfur dioxide  total sulfur dioxide  density    pH  sulphates  \\\n",
       "267                  15.0                  37.0  0.99730  3.35       0.86   \n",
       "278                   5.0                  13.0  0.99760  3.23       0.82   \n",
       "390                  12.0                  88.0  0.99240  3.56       0.82   \n",
       "440                   6.0                  29.0  0.99870  2.88       0.82   \n",
       "455                   6.0                  19.0  0.99880  3.22       0.69   \n",
       "481                   6.0                  17.0  0.99640  3.15       0.92   \n",
       "495                   5.0                  16.0  0.99720  3.15       0.65   \n",
       "588                  19.0                  50.0  0.99170  3.72       0.74   \n",
       "828                  34.0                  45.0  0.99417  3.46       0.74   \n",
       "1061                  7.0                  16.0  0.99462  3.21       0.69   \n",
       "1090                 42.0                  74.0  0.99451  2.98       0.63   \n",
       "1120                  8.0                  17.0  0.99235  3.20       0.72   \n",
       "1202                  6.0                  12.0  0.99516  3.35       0.69   \n",
       "1269                 28.0                  87.0  0.99080  3.50       0.82   \n",
       "1403                  3.0                  13.0  0.99600  3.23       1.10   \n",
       "1449                 15.0                  29.0  0.99472  3.23       0.76   \n",
       "1549                 17.0                  24.0  0.99419  3.24       0.70   \n",
       "\n",
       "      alcohol  quality  \n",
       "267      12.8        8  \n",
       "278      12.6        8  \n",
       "390      12.9        8  \n",
       "440       9.8        8  \n",
       "455      13.4        8  \n",
       "481      11.7        8  \n",
       "495      11.0        8  \n",
       "588      14.0        8  \n",
       "828      12.7        8  \n",
       "1061     12.5        8  \n",
       "1090     11.8        8  \n",
       "1120     13.1        8  \n",
       "1202     11.7        8  \n",
       "1269     14.0        8  \n",
       "1403     10.0        8  \n",
       "1449     11.3        8  \n",
       "1549     11.4        8  "
      ]
     },
     "execution_count": 86,
     "metadata": {},
     "output_type": "execute_result"
    }
   ],
   "source": [
    "df_red[df_red['quality']==df_red['quality'].max()]"
   ]
  },
  {
   "cell_type": "markdown",
   "id": "89afac3e",
   "metadata": {},
   "source": [
    "### Vinhos com a pior qualidade"
   ]
  },
  {
   "cell_type": "code",
   "execution_count": 87,
   "id": "92dd5cc2",
   "metadata": {},
   "outputs": [
    {
     "data": {
      "text/html": [
       "<div>\n",
       "<style scoped>\n",
       "    .dataframe tbody tr th:only-of-type {\n",
       "        vertical-align: middle;\n",
       "    }\n",
       "\n",
       "    .dataframe tbody tr th {\n",
       "        vertical-align: top;\n",
       "    }\n",
       "\n",
       "    .dataframe thead th {\n",
       "        text-align: right;\n",
       "    }\n",
       "</style>\n",
       "<table border=\"1\" class=\"dataframe\">\n",
       "  <thead>\n",
       "    <tr style=\"text-align: right;\">\n",
       "      <th></th>\n",
       "      <th>fixed acidity</th>\n",
       "      <th>volatile acidity</th>\n",
       "      <th>citric acid</th>\n",
       "      <th>residual sugar</th>\n",
       "      <th>chlorides</th>\n",
       "      <th>free sulfur dioxide</th>\n",
       "      <th>total sulfur dioxide</th>\n",
       "      <th>density</th>\n",
       "      <th>pH</th>\n",
       "      <th>sulphates</th>\n",
       "      <th>alcohol</th>\n",
       "      <th>quality</th>\n",
       "    </tr>\n",
       "  </thead>\n",
       "  <tbody>\n",
       "    <tr>\n",
       "      <th>459</th>\n",
       "      <td>11.6</td>\n",
       "      <td>0.580</td>\n",
       "      <td>0.66</td>\n",
       "      <td>2.20</td>\n",
       "      <td>0.074</td>\n",
       "      <td>10.0</td>\n",
       "      <td>47.0</td>\n",
       "      <td>1.00080</td>\n",
       "      <td>3.25</td>\n",
       "      <td>0.57</td>\n",
       "      <td>9.00</td>\n",
       "      <td>3</td>\n",
       "    </tr>\n",
       "    <tr>\n",
       "      <th>517</th>\n",
       "      <td>10.4</td>\n",
       "      <td>0.610</td>\n",
       "      <td>0.49</td>\n",
       "      <td>2.10</td>\n",
       "      <td>0.200</td>\n",
       "      <td>5.0</td>\n",
       "      <td>16.0</td>\n",
       "      <td>0.99940</td>\n",
       "      <td>3.16</td>\n",
       "      <td>0.63</td>\n",
       "      <td>8.40</td>\n",
       "      <td>3</td>\n",
       "    </tr>\n",
       "    <tr>\n",
       "      <th>690</th>\n",
       "      <td>7.4</td>\n",
       "      <td>1.185</td>\n",
       "      <td>0.00</td>\n",
       "      <td>4.25</td>\n",
       "      <td>0.097</td>\n",
       "      <td>5.0</td>\n",
       "      <td>14.0</td>\n",
       "      <td>0.99660</td>\n",
       "      <td>3.63</td>\n",
       "      <td>0.54</td>\n",
       "      <td>10.70</td>\n",
       "      <td>3</td>\n",
       "    </tr>\n",
       "    <tr>\n",
       "      <th>832</th>\n",
       "      <td>10.4</td>\n",
       "      <td>0.440</td>\n",
       "      <td>0.42</td>\n",
       "      <td>1.50</td>\n",
       "      <td>0.145</td>\n",
       "      <td>34.0</td>\n",
       "      <td>48.0</td>\n",
       "      <td>0.99832</td>\n",
       "      <td>3.38</td>\n",
       "      <td>0.86</td>\n",
       "      <td>9.90</td>\n",
       "      <td>3</td>\n",
       "    </tr>\n",
       "    <tr>\n",
       "      <th>899</th>\n",
       "      <td>8.3</td>\n",
       "      <td>1.020</td>\n",
       "      <td>0.02</td>\n",
       "      <td>3.40</td>\n",
       "      <td>0.084</td>\n",
       "      <td>6.0</td>\n",
       "      <td>11.0</td>\n",
       "      <td>0.99892</td>\n",
       "      <td>3.48</td>\n",
       "      <td>0.49</td>\n",
       "      <td>11.00</td>\n",
       "      <td>3</td>\n",
       "    </tr>\n",
       "    <tr>\n",
       "      <th>1299</th>\n",
       "      <td>7.6</td>\n",
       "      <td>1.580</td>\n",
       "      <td>0.00</td>\n",
       "      <td>2.10</td>\n",
       "      <td>0.137</td>\n",
       "      <td>5.0</td>\n",
       "      <td>9.0</td>\n",
       "      <td>0.99476</td>\n",
       "      <td>3.50</td>\n",
       "      <td>0.40</td>\n",
       "      <td>10.90</td>\n",
       "      <td>3</td>\n",
       "    </tr>\n",
       "    <tr>\n",
       "      <th>1374</th>\n",
       "      <td>6.8</td>\n",
       "      <td>0.815</td>\n",
       "      <td>0.00</td>\n",
       "      <td>1.20</td>\n",
       "      <td>0.267</td>\n",
       "      <td>16.0</td>\n",
       "      <td>29.0</td>\n",
       "      <td>0.99471</td>\n",
       "      <td>3.32</td>\n",
       "      <td>0.51</td>\n",
       "      <td>9.80</td>\n",
       "      <td>3</td>\n",
       "    </tr>\n",
       "    <tr>\n",
       "      <th>1469</th>\n",
       "      <td>7.3</td>\n",
       "      <td>0.980</td>\n",
       "      <td>0.05</td>\n",
       "      <td>2.10</td>\n",
       "      <td>0.061</td>\n",
       "      <td>20.0</td>\n",
       "      <td>49.0</td>\n",
       "      <td>0.99705</td>\n",
       "      <td>3.31</td>\n",
       "      <td>0.55</td>\n",
       "      <td>9.70</td>\n",
       "      <td>3</td>\n",
       "    </tr>\n",
       "    <tr>\n",
       "      <th>1478</th>\n",
       "      <td>7.1</td>\n",
       "      <td>0.875</td>\n",
       "      <td>0.05</td>\n",
       "      <td>5.70</td>\n",
       "      <td>0.082</td>\n",
       "      <td>3.0</td>\n",
       "      <td>14.0</td>\n",
       "      <td>0.99808</td>\n",
       "      <td>3.40</td>\n",
       "      <td>0.52</td>\n",
       "      <td>10.20</td>\n",
       "      <td>3</td>\n",
       "    </tr>\n",
       "    <tr>\n",
       "      <th>1505</th>\n",
       "      <td>6.7</td>\n",
       "      <td>0.760</td>\n",
       "      <td>0.02</td>\n",
       "      <td>1.80</td>\n",
       "      <td>0.078</td>\n",
       "      <td>6.0</td>\n",
       "      <td>12.0</td>\n",
       "      <td>0.99600</td>\n",
       "      <td>3.55</td>\n",
       "      <td>0.63</td>\n",
       "      <td>9.95</td>\n",
       "      <td>3</td>\n",
       "    </tr>\n",
       "  </tbody>\n",
       "</table>\n",
       "</div>"
      ],
      "text/plain": [
       "      fixed acidity  volatile acidity  citric acid  residual sugar  chlorides  \\\n",
       "459            11.6             0.580         0.66            2.20      0.074   \n",
       "517            10.4             0.610         0.49            2.10      0.200   \n",
       "690             7.4             1.185         0.00            4.25      0.097   \n",
       "832            10.4             0.440         0.42            1.50      0.145   \n",
       "899             8.3             1.020         0.02            3.40      0.084   \n",
       "1299            7.6             1.580         0.00            2.10      0.137   \n",
       "1374            6.8             0.815         0.00            1.20      0.267   \n",
       "1469            7.3             0.980         0.05            2.10      0.061   \n",
       "1478            7.1             0.875         0.05            5.70      0.082   \n",
       "1505            6.7             0.760         0.02            1.80      0.078   \n",
       "\n",
       "      free sulfur dioxide  total sulfur dioxide  density    pH  sulphates  \\\n",
       "459                  10.0                  47.0  1.00080  3.25       0.57   \n",
       "517                   5.0                  16.0  0.99940  3.16       0.63   \n",
       "690                   5.0                  14.0  0.99660  3.63       0.54   \n",
       "832                  34.0                  48.0  0.99832  3.38       0.86   \n",
       "899                   6.0                  11.0  0.99892  3.48       0.49   \n",
       "1299                  5.0                   9.0  0.99476  3.50       0.40   \n",
       "1374                 16.0                  29.0  0.99471  3.32       0.51   \n",
       "1469                 20.0                  49.0  0.99705  3.31       0.55   \n",
       "1478                  3.0                  14.0  0.99808  3.40       0.52   \n",
       "1505                  6.0                  12.0  0.99600  3.55       0.63   \n",
       "\n",
       "      alcohol  quality  \n",
       "459      9.00        3  \n",
       "517      8.40        3  \n",
       "690     10.70        3  \n",
       "832      9.90        3  \n",
       "899     11.00        3  \n",
       "1299    10.90        3  \n",
       "1374     9.80        3  \n",
       "1469     9.70        3  \n",
       "1478    10.20        3  \n",
       "1505     9.95        3  "
      ]
     },
     "execution_count": 87,
     "metadata": {},
     "output_type": "execute_result"
    }
   ],
   "source": [
    "df_red[df_red['quality']==df_red['quality'].min()]"
   ]
  },
  {
   "cell_type": "markdown",
   "id": "7458ee2f",
   "metadata": {},
   "source": [
    "### Distribuição das notas"
   ]
  },
  {
   "cell_type": "code",
   "execution_count": 88,
   "id": "9a308d19",
   "metadata": {},
   "outputs": [
    {
     "data": {
      "text/plain": [
       "quality\n",
       "5    577\n",
       "6    535\n",
       "7    167\n",
       "4     53\n",
       "8     17\n",
       "3     10\n",
       "Name: count, dtype: int64"
      ]
     },
     "execution_count": 88,
     "metadata": {},
     "output_type": "execute_result"
    }
   ],
   "source": [
    "df_red['quality'].value_counts()"
   ]
  },
  {
   "cell_type": "markdown",
   "id": "fc4da3cd",
   "metadata": {},
   "source": [
    "### Impactos na qualidade dos vinhos vermelhos"
   ]
  },
  {
   "cell_type": "markdown",
   "id": "4dd3d6f0",
   "metadata": {},
   "source": [
    "#### Álcool para vinhos vermelhos possui relação com a qualidade?"
   ]
  },
  {
   "cell_type": "code",
   "execution_count": 89,
   "id": "c8137708",
   "metadata": {},
   "outputs": [
    {
     "data": {
      "text/plain": [
       "quality\n",
       "3     9.96\n",
       "4    10.27\n",
       "5     9.89\n",
       "6    10.66\n",
       "7    11.49\n",
       "8    12.16\n",
       "Name: alcohol, dtype: float64"
      ]
     },
     "execution_count": 89,
     "metadata": {},
     "output_type": "execute_result"
    }
   ],
   "source": [
    "df_red.groupby('quality')['alcohol'].mean().round(2)"
   ]
  },
  {
   "cell_type": "markdown",
   "id": "ba6ecbca",
   "metadata": {},
   "source": [
    "#### Impactos da acidez em vinhos vermelhos"
   ]
  },
  {
   "cell_type": "code",
   "execution_count": 90,
   "id": "259743c7",
   "metadata": {},
   "outputs": [
    {
     "data": {
      "text/plain": [
       "quality\n",
       "3    8.360000\n",
       "4    7.779245\n",
       "5    8.171231\n",
       "6    8.337383\n",
       "7    8.858683\n",
       "8    8.441176\n",
       "Name: fixed acidity, dtype: float64"
      ]
     },
     "execution_count": 90,
     "metadata": {},
     "output_type": "execute_result"
    }
   ],
   "source": [
    "df_red.groupby('quality')['fixed acidity'].mean()"
   ]
  },
  {
   "cell_type": "code",
   "execution_count": 91,
   "id": "c787d04e",
   "metadata": {},
   "outputs": [
    {
     "data": {
      "text/plain": [
       "quality\n",
       "3    0.884500\n",
       "4    0.693962\n",
       "5    0.578596\n",
       "6    0.496084\n",
       "7    0.403653\n",
       "8    0.427647\n",
       "Name: volatile acidity, dtype: float64"
      ]
     },
     "execution_count": 91,
     "metadata": {},
     "output_type": "execute_result"
    }
   ],
   "source": [
    "df_red.groupby('quality')['volatile acidity'].mean()"
   ]
  },
  {
   "cell_type": "code",
   "execution_count": 92,
   "id": "9421e85a",
   "metadata": {},
   "outputs": [
    {
     "data": {
      "text/plain": [
       "quality\n",
       "3    0.171000\n",
       "4    0.174151\n",
       "5    0.244523\n",
       "6    0.279364\n",
       "7    0.371856\n",
       "8    0.382941\n",
       "Name: citric acid, dtype: float64"
      ]
     },
     "execution_count": 92,
     "metadata": {},
     "output_type": "execute_result"
    }
   ],
   "source": [
    "df_red.groupby('quality')['citric acid'].mean()"
   ]
  },
  {
   "cell_type": "markdown",
   "id": "61d2ee32",
   "metadata": {},
   "source": [
    "## Visualização"
   ]
  },
  {
   "cell_type": "markdown",
   "id": "74d7e49b",
   "metadata": {},
   "source": [
    "### Gráfico de correlação"
   ]
  },
  {
   "cell_type": "code",
   "execution_count": 93,
   "id": "3a57ae63",
   "metadata": {},
   "outputs": [
    {
     "data": {
      "text/plain": [
       "<Axes: >"
      ]
     },
     "execution_count": 93,
     "metadata": {},
     "output_type": "execute_result"
    },
    {
     "data": {
      "image/png": "[encoded data removed]",
      "text/plain": [
       "<Figure size 640x480 with 2 Axes>"
      ]
     },
     "metadata": {},
     "output_type": "display_data"
    }
   ],
   "source": [
    "sns.heatmap(df_red.corr())"
   ]
  },
  {
   "cell_type": "markdown",
   "id": "4d14f461",
   "metadata": {},
   "source": [
    "### Visualizações sobre os marcadores que mais influenciam na qualidade"
   ]
  },
  {
   "cell_type": "markdown",
   "id": "1adef9fa",
   "metadata": {},
   "source": [
    "#### Álcool"
   ]
  },
  {
   "cell_type": "code",
   "execution_count": 94,
   "id": "d9a2211c",
   "metadata": {},
   "outputs": [
    {
     "data": {
      "image/png": "[encoded data removed]",
      "text/plain": [
       "<Figure size 1000x600 with 1 Axes>"
      ]
     },
     "metadata": {},
     "output_type": "display_data"
    }
   ],
   "source": [
    "alcool_vermelho = df_red.groupby('quality')['alcohol'].mean().reset_index()\n",
    "\n",
    "plt.figure(figsize=(10, 6))\n",
    "sns.lineplot(x='quality', y='alcohol', data=alcool_branco, color='red')\n",
    "\n",
    "plt.title('Álcool X Qualidade do vinho')\n",
    "plt.xlabel('Qualidade')\n",
    "plt.ylabel('Álcool')\n",
    "plt.show()"
   ]
  },
  {
   "cell_type": "markdown",
   "id": "c962f00a",
   "metadata": {},
   "source": [
    "#### Cloreto"
   ]
  },
  {
   "cell_type": "code",
   "execution_count": 95,
   "id": "06034d06",
   "metadata": {},
   "outputs": [
    {
     "data": {
      "image/png": "[encoded data removed]",
      "text/plain": [
       "<Figure size 1000x600 with 1 Axes>"
      ]
     },
     "metadata": {},
     "output_type": "display_data"
    }
   ],
   "source": [
    "cloreto_vermelho = df_red.groupby('quality')['chlorides'].mean().reset_index()\n",
    "\n",
    "plt.figure(figsize=(10, 6))\n",
    "sns.lineplot(x='quality', y='chlorides', data=cloreto_vermelho, color='red')\n",
    "\n",
    "plt.title('Cloreto X Qualidade do vinho')\n",
    "plt.xlabel('Qualidade')\n",
    "plt.ylabel('Cloreto')\n",
    "plt.show()"
   ]
  },
  {
   "cell_type": "markdown",
   "id": "95b27778",
   "metadata": {},
   "source": [
    "#### Ácido cítrico"
   ]
  },
  {
   "cell_type": "code",
   "execution_count": 96,
   "id": "ad9d3ae3",
   "metadata": {},
   "outputs": [
    {
     "data": {
      "image/png": "[encoded data removed]",
      "text/plain": [
       "<Figure size 1000x600 with 1 Axes>"
      ]
     },
     "metadata": {},
     "output_type": "display_data"
    }
   ],
   "source": [
    "acido_citrico_vermelho = df_red.groupby('quality')['citric acid'].mean().reset_index()\n",
    "\n",
    "plt.figure(figsize=(10, 6))\n",
    "sns.lineplot(x='quality', y='citric acid', data=acido_citrico_vermelho, color='red')\n",
    "\n",
    "plt.title('Ácido cítrico X Qualidade do vinho')\n",
    "plt.xlabel('Qualidade')\n",
    "plt.ylabel('Ácido cítrico')\n",
    "plt.show()"
   ]
  },
  {
   "cell_type": "markdown",
   "id": "f7870137",
   "metadata": {},
   "source": [
    "#### Acidez volátil"
   ]
  },
  {
   "cell_type": "code",
   "execution_count": 97,
   "id": "073a8685",
   "metadata": {},
   "outputs": [
    {
     "data": {
      "image/png": "[encoded data removed]",
      "text/plain": [
       "<Figure size 1000x600 with 1 Axes>"
      ]
     },
     "metadata": {},
     "output_type": "display_data"
    }
   ],
   "source": [
    "volatil_vermelho = df_red.groupby('quality')['volatile acidity'].mean().reset_index()\n",
    "\n",
    "plt.figure(figsize=(10, 6))\n",
    "sns.lineplot(x='quality', y='volatile acidity', data=volatil_vermelho, color='red')\n",
    "\n",
    "plt.title('Acidez volátil X Qualidade do vinho')\n",
    "plt.xlabel('Qualidade')\n",
    "plt.ylabel('Acidez volátil')\n",
    "plt.show()"
   ]
  }
 ],
 "metadata": {
  "kernelspec": {
   "display_name": "Python 3 (ipykernel)",
   "language": "python",
   "name": "python3"
  },
  "language_info": {
   "codemirror_mode": {
    "name": "ipython",
    "version": 3
   },
   "file_extension": ".py",
   "mimetype": "text/x-python",
   "name": "python",
   "nbconvert_exporter": "python",
   "pygments_lexer": "ipython3",
   "version": "3.12.2"
  }
 },
 "nbformat": 4,
 "nbformat_minor": 5
}
